{
  "nbformat": 4,
  "nbformat_minor": 2,
  "metadata": {
    "colab": {
      "name": "HW3.ipynb",
      "provenance": [],
      "collapsed_sections": [
        "V3vFT6V84Fe2",
        "3Xc2vJp_3zoS",
        "lsYjWZCTO8fp",
        "qJed9qr_QGdp",
        "3VzChF0E35j4",
        "AXfgJbjmwScQ",
        "IlJ6xBpM5HIf",
        "YoBAZxXlFKSv",
        "XgFf3sJ3-6dj",
        "a7aLUQb76L80",
        "QBjETHHbPn4M",
        "rW2La_scbviZ",
        "bGiGuMtdFRHN",
        "yUP2VAPxGlaP"
      ]
    },
    "kernelspec": {
      "name": "python3",
      "display_name": "Python 3"
    },
    "language_info": {
      "name": "python"
    },
    "widgets": {
      "application/vnd.jupyter.widget-state+json": {
        "5788221ee1ce44f39dcd519f59999c12": {
          "model_module": "@jupyter-widgets/controls",
          "model_name": "HBoxModel",
          "model_module_version": "1.5.0",
          "state": {
            "_dom_classes": [],
            "_model_module": "@jupyter-widgets/controls",
            "_model_module_version": "1.5.0",
            "_model_name": "HBoxModel",
            "_view_count": null,
            "_view_module": "@jupyter-widgets/controls",
            "_view_module_version": "1.5.0",
            "_view_name": "HBoxView",
            "box_style": "",
            "children": [
              "IPY_MODEL_a76c99edcf824c38ac8af67837c1033e",
              "IPY_MODEL_03c8b7daa72c48998b2075410a4b8321",
              "IPY_MODEL_a75555db41fc4aa49a9dfe0ede124cc7"
            ],
            "layout": "IPY_MODEL_cd3aafc64af240a3a3eac4a955155f21"
          }
        },
        "a76c99edcf824c38ac8af67837c1033e": {
          "model_module": "@jupyter-widgets/controls",
          "model_name": "HTMLModel",
          "model_module_version": "1.5.0",
          "state": {
            "_dom_classes": [],
            "_model_module": "@jupyter-widgets/controls",
            "_model_module_version": "1.5.0",
            "_model_name": "HTMLModel",
            "_view_count": null,
            "_view_module": "@jupyter-widgets/controls",
            "_view_module_version": "1.5.0",
            "_view_name": "HTMLView",
            "description": "",
            "description_tooltip": null,
            "layout": "IPY_MODEL_d35d6273e58e4e2dba8cedac677e9b65",
            "placeholder": "​",
            "style": "IPY_MODEL_e4abf32b14a64e3aae348411e2eb1f5e",
            "value": "Downloading: 100%"
          }
        },
        "03c8b7daa72c48998b2075410a4b8321": {
          "model_module": "@jupyter-widgets/controls",
          "model_name": "FloatProgressModel",
          "model_module_version": "1.5.0",
          "state": {
            "_dom_classes": [],
            "_model_module": "@jupyter-widgets/controls",
            "_model_module_version": "1.5.0",
            "_model_name": "FloatProgressModel",
            "_view_count": null,
            "_view_module": "@jupyter-widgets/controls",
            "_view_module_version": "1.5.0",
            "_view_name": "ProgressView",
            "bar_style": "success",
            "description": "",
            "description_tooltip": null,
            "layout": "IPY_MODEL_03c5ee70c4464f089a8b78818aeca876",
            "max": 440,
            "min": 0,
            "orientation": "horizontal",
            "style": "IPY_MODEL_ad5f74cd02a546f7a31784adc9503878",
            "value": 440
          }
        },
        "a75555db41fc4aa49a9dfe0ede124cc7": {
          "model_module": "@jupyter-widgets/controls",
          "model_name": "HTMLModel",
          "model_module_version": "1.5.0",
          "state": {
            "_dom_classes": [],
            "_model_module": "@jupyter-widgets/controls",
            "_model_module_version": "1.5.0",
            "_model_name": "HTMLModel",
            "_view_count": null,
            "_view_module": "@jupyter-widgets/controls",
            "_view_module_version": "1.5.0",
            "_view_name": "HTMLView",
            "description": "",
            "description_tooltip": null,
            "layout": "IPY_MODEL_43b64b7642034a68b1b21415e847d890",
            "placeholder": "​",
            "style": "IPY_MODEL_4709c68ae03445ebb3e2ef90ed6384e4",
            "value": " 440/440 [00:00&lt;00:00, 7.41kB/s]"
          }
        },
        "cd3aafc64af240a3a3eac4a955155f21": {
          "model_module": "@jupyter-widgets/base",
          "model_name": "LayoutModel",
          "model_module_version": "1.2.0",
          "state": {
            "_model_module": "@jupyter-widgets/base",
            "_model_module_version": "1.2.0",
            "_model_name": "LayoutModel",
            "_view_count": null,
            "_view_module": "@jupyter-widgets/base",
            "_view_module_version": "1.2.0",
            "_view_name": "LayoutView",
            "align_content": null,
            "align_items": null,
            "align_self": null,
            "border": null,
            "bottom": null,
            "display": null,
            "flex": null,
            "flex_flow": null,
            "grid_area": null,
            "grid_auto_columns": null,
            "grid_auto_flow": null,
            "grid_auto_rows": null,
            "grid_column": null,
            "grid_gap": null,
            "grid_row": null,
            "grid_template_areas": null,
            "grid_template_columns": null,
            "grid_template_rows": null,
            "height": null,
            "justify_content": null,
            "justify_items": null,
            "left": null,
            "margin": null,
            "max_height": null,
            "max_width": null,
            "min_height": null,
            "min_width": null,
            "object_fit": null,
            "object_position": null,
            "order": null,
            "overflow": null,
            "overflow_x": null,
            "overflow_y": null,
            "padding": null,
            "right": null,
            "top": null,
            "visibility": null,
            "width": null
          }
        },
        "d35d6273e58e4e2dba8cedac677e9b65": {
          "model_module": "@jupyter-widgets/base",
          "model_name": "LayoutModel",
          "model_module_version": "1.2.0",
          "state": {
            "_model_module": "@jupyter-widgets/base",
            "_model_module_version": "1.2.0",
            "_model_name": "LayoutModel",
            "_view_count": null,
            "_view_module": "@jupyter-widgets/base",
            "_view_module_version": "1.2.0",
            "_view_name": "LayoutView",
            "align_content": null,
            "align_items": null,
            "align_self": null,
            "border": null,
            "bottom": null,
            "display": null,
            "flex": null,
            "flex_flow": null,
            "grid_area": null,
            "grid_auto_columns": null,
            "grid_auto_flow": null,
            "grid_auto_rows": null,
            "grid_column": null,
            "grid_gap": null,
            "grid_row": null,
            "grid_template_areas": null,
            "grid_template_columns": null,
            "grid_template_rows": null,
            "height": null,
            "justify_content": null,
            "justify_items": null,
            "left": null,
            "margin": null,
            "max_height": null,
            "max_width": null,
            "min_height": null,
            "min_width": null,
            "object_fit": null,
            "object_position": null,
            "order": null,
            "overflow": null,
            "overflow_x": null,
            "overflow_y": null,
            "padding": null,
            "right": null,
            "top": null,
            "visibility": null,
            "width": null
          }
        },
        "e4abf32b14a64e3aae348411e2eb1f5e": {
          "model_module": "@jupyter-widgets/controls",
          "model_name": "DescriptionStyleModel",
          "model_module_version": "1.5.0",
          "state": {
            "_model_module": "@jupyter-widgets/controls",
            "_model_module_version": "1.5.0",
            "_model_name": "DescriptionStyleModel",
            "_view_count": null,
            "_view_module": "@jupyter-widgets/base",
            "_view_module_version": "1.2.0",
            "_view_name": "StyleView",
            "description_width": ""
          }
        },
        "03c5ee70c4464f089a8b78818aeca876": {
          "model_module": "@jupyter-widgets/base",
          "model_name": "LayoutModel",
          "model_module_version": "1.2.0",
          "state": {
            "_model_module": "@jupyter-widgets/base",
            "_model_module_version": "1.2.0",
            "_model_name": "LayoutModel",
            "_view_count": null,
            "_view_module": "@jupyter-widgets/base",
            "_view_module_version": "1.2.0",
            "_view_name": "LayoutView",
            "align_content": null,
            "align_items": null,
            "align_self": null,
            "border": null,
            "bottom": null,
            "display": null,
            "flex": null,
            "flex_flow": null,
            "grid_area": null,
            "grid_auto_columns": null,
            "grid_auto_flow": null,
            "grid_auto_rows": null,
            "grid_column": null,
            "grid_gap": null,
            "grid_row": null,
            "grid_template_areas": null,
            "grid_template_columns": null,
            "grid_template_rows": null,
            "height": null,
            "justify_content": null,
            "justify_items": null,
            "left": null,
            "margin": null,
            "max_height": null,
            "max_width": null,
            "min_height": null,
            "min_width": null,
            "object_fit": null,
            "object_position": null,
            "order": null,
            "overflow": null,
            "overflow_x": null,
            "overflow_y": null,
            "padding": null,
            "right": null,
            "top": null,
            "visibility": null,
            "width": null
          }
        },
        "ad5f74cd02a546f7a31784adc9503878": {
          "model_module": "@jupyter-widgets/controls",
          "model_name": "ProgressStyleModel",
          "model_module_version": "1.5.0",
          "state": {
            "_model_module": "@jupyter-widgets/controls",
            "_model_module_version": "1.5.0",
            "_model_name": "ProgressStyleModel",
            "_view_count": null,
            "_view_module": "@jupyter-widgets/base",
            "_view_module_version": "1.2.0",
            "_view_name": "StyleView",
            "bar_color": null,
            "description_width": ""
          }
        },
        "43b64b7642034a68b1b21415e847d890": {
          "model_module": "@jupyter-widgets/base",
          "model_name": "LayoutModel",
          "model_module_version": "1.2.0",
          "state": {
            "_model_module": "@jupyter-widgets/base",
            "_model_module_version": "1.2.0",
            "_model_name": "LayoutModel",
            "_view_count": null,
            "_view_module": "@jupyter-widgets/base",
            "_view_module_version": "1.2.0",
            "_view_name": "LayoutView",
            "align_content": null,
            "align_items": null,
            "align_self": null,
            "border": null,
            "bottom": null,
            "display": null,
            "flex": null,
            "flex_flow": null,
            "grid_area": null,
            "grid_auto_columns": null,
            "grid_auto_flow": null,
            "grid_auto_rows": null,
            "grid_column": null,
            "grid_gap": null,
            "grid_row": null,
            "grid_template_areas": null,
            "grid_template_columns": null,
            "grid_template_rows": null,
            "height": null,
            "justify_content": null,
            "justify_items": null,
            "left": null,
            "margin": null,
            "max_height": null,
            "max_width": null,
            "min_height": null,
            "min_width": null,
            "object_fit": null,
            "object_position": null,
            "order": null,
            "overflow": null,
            "overflow_x": null,
            "overflow_y": null,
            "padding": null,
            "right": null,
            "top": null,
            "visibility": null,
            "width": null
          }
        },
        "4709c68ae03445ebb3e2ef90ed6384e4": {
          "model_module": "@jupyter-widgets/controls",
          "model_name": "DescriptionStyleModel",
          "model_module_version": "1.5.0",
          "state": {
            "_model_module": "@jupyter-widgets/controls",
            "_model_module_version": "1.5.0",
            "_model_name": "DescriptionStyleModel",
            "_view_count": null,
            "_view_module": "@jupyter-widgets/base",
            "_view_module_version": "1.2.0",
            "_view_name": "StyleView",
            "description_width": ""
          }
        },
        "20c73f39cf444a9a91d307cedab3b291": {
          "model_module": "@jupyter-widgets/controls",
          "model_name": "HBoxModel",
          "model_module_version": "1.5.0",
          "state": {
            "_dom_classes": [],
            "_model_module": "@jupyter-widgets/controls",
            "_model_module_version": "1.5.0",
            "_model_name": "HBoxModel",
            "_view_count": null,
            "_view_module": "@jupyter-widgets/controls",
            "_view_module_version": "1.5.0",
            "_view_name": "HBoxView",
            "box_style": "",
            "children": [
              "IPY_MODEL_8aa25c84ce8c451e865a268ed527a50b",
              "IPY_MODEL_1112a555a6934707bbbebc7ba344f26b",
              "IPY_MODEL_276e998ec3434f9a8b77a97e3912bd34"
            ],
            "layout": "IPY_MODEL_ee5a07d388c345abb7eff32c60104748"
          }
        },
        "8aa25c84ce8c451e865a268ed527a50b": {
          "model_module": "@jupyter-widgets/controls",
          "model_name": "HTMLModel",
          "model_module_version": "1.5.0",
          "state": {
            "_dom_classes": [],
            "_model_module": "@jupyter-widgets/controls",
            "_model_module_version": "1.5.0",
            "_model_name": "HTMLModel",
            "_view_count": null,
            "_view_module": "@jupyter-widgets/controls",
            "_view_module_version": "1.5.0",
            "_view_name": "HTMLView",
            "description": "",
            "description_tooltip": null,
            "layout": "IPY_MODEL_c141309d9a8e4fa789df60ea046e1871",
            "placeholder": "​",
            "style": "IPY_MODEL_a1f4b43b1b3b43fda3e91a280cfdece9",
            "value": "Downloading: 100%"
          }
        },
        "1112a555a6934707bbbebc7ba344f26b": {
          "model_module": "@jupyter-widgets/controls",
          "model_name": "FloatProgressModel",
          "model_module_version": "1.5.0",
          "state": {
            "_dom_classes": [],
            "_model_module": "@jupyter-widgets/controls",
            "_model_module_version": "1.5.0",
            "_model_name": "FloatProgressModel",
            "_view_count": null,
            "_view_module": "@jupyter-widgets/controls",
            "_view_module_version": "1.5.0",
            "_view_name": "ProgressView",
            "bar_style": "success",
            "description": "",
            "description_tooltip": null,
            "layout": "IPY_MODEL_b48c173d783246b1901f2b9dc3272a04",
            "max": 1198122,
            "min": 0,
            "orientation": "horizontal",
            "style": "IPY_MODEL_9f116acdf3294acf9adf90445d709798",
            "value": 1198122
          }
        },
        "276e998ec3434f9a8b77a97e3912bd34": {
          "model_module": "@jupyter-widgets/controls",
          "model_name": "HTMLModel",
          "model_module_version": "1.5.0",
          "state": {
            "_dom_classes": [],
            "_model_module": "@jupyter-widgets/controls",
            "_model_module_version": "1.5.0",
            "_model_name": "HTMLModel",
            "_view_count": null,
            "_view_module": "@jupyter-widgets/controls",
            "_view_module_version": "1.5.0",
            "_view_name": "HTMLView",
            "description": "",
            "description_tooltip": null,
            "layout": "IPY_MODEL_b02b058f9eb143798b2bd5e0c81a7a11",
            "placeholder": "​",
            "style": "IPY_MODEL_d38bf21af72d4953ac32036008be8cfd",
            "value": " 1.14M/1.14M [00:01&lt;00:00, 1.26MB/s]"
          }
        },
        "ee5a07d388c345abb7eff32c60104748": {
          "model_module": "@jupyter-widgets/base",
          "model_name": "LayoutModel",
          "model_module_version": "1.2.0",
          "state": {
            "_model_module": "@jupyter-widgets/base",
            "_model_module_version": "1.2.0",
            "_model_name": "LayoutModel",
            "_view_count": null,
            "_view_module": "@jupyter-widgets/base",
            "_view_module_version": "1.2.0",
            "_view_name": "LayoutView",
            "align_content": null,
            "align_items": null,
            "align_self": null,
            "border": null,
            "bottom": null,
            "display": null,
            "flex": null,
            "flex_flow": null,
            "grid_area": null,
            "grid_auto_columns": null,
            "grid_auto_flow": null,
            "grid_auto_rows": null,
            "grid_column": null,
            "grid_gap": null,
            "grid_row": null,
            "grid_template_areas": null,
            "grid_template_columns": null,
            "grid_template_rows": null,
            "height": null,
            "justify_content": null,
            "justify_items": null,
            "left": null,
            "margin": null,
            "max_height": null,
            "max_width": null,
            "min_height": null,
            "min_width": null,
            "object_fit": null,
            "object_position": null,
            "order": null,
            "overflow": null,
            "overflow_x": null,
            "overflow_y": null,
            "padding": null,
            "right": null,
            "top": null,
            "visibility": null,
            "width": null
          }
        },
        "c141309d9a8e4fa789df60ea046e1871": {
          "model_module": "@jupyter-widgets/base",
          "model_name": "LayoutModel",
          "model_module_version": "1.2.0",
          "state": {
            "_model_module": "@jupyter-widgets/base",
            "_model_module_version": "1.2.0",
            "_model_name": "LayoutModel",
            "_view_count": null,
            "_view_module": "@jupyter-widgets/base",
            "_view_module_version": "1.2.0",
            "_view_name": "LayoutView",
            "align_content": null,
            "align_items": null,
            "align_self": null,
            "border": null,
            "bottom": null,
            "display": null,
            "flex": null,
            "flex_flow": null,
            "grid_area": null,
            "grid_auto_columns": null,
            "grid_auto_flow": null,
            "grid_auto_rows": null,
            "grid_column": null,
            "grid_gap": null,
            "grid_row": null,
            "grid_template_areas": null,
            "grid_template_columns": null,
            "grid_template_rows": null,
            "height": null,
            "justify_content": null,
            "justify_items": null,
            "left": null,
            "margin": null,
            "max_height": null,
            "max_width": null,
            "min_height": null,
            "min_width": null,
            "object_fit": null,
            "object_position": null,
            "order": null,
            "overflow": null,
            "overflow_x": null,
            "overflow_y": null,
            "padding": null,
            "right": null,
            "top": null,
            "visibility": null,
            "width": null
          }
        },
        "a1f4b43b1b3b43fda3e91a280cfdece9": {
          "model_module": "@jupyter-widgets/controls",
          "model_name": "DescriptionStyleModel",
          "model_module_version": "1.5.0",
          "state": {
            "_model_module": "@jupyter-widgets/controls",
            "_model_module_version": "1.5.0",
            "_model_name": "DescriptionStyleModel",
            "_view_count": null,
            "_view_module": "@jupyter-widgets/base",
            "_view_module_version": "1.2.0",
            "_view_name": "StyleView",
            "description_width": ""
          }
        },
        "b48c173d783246b1901f2b9dc3272a04": {
          "model_module": "@jupyter-widgets/base",
          "model_name": "LayoutModel",
          "model_module_version": "1.2.0",
          "state": {
            "_model_module": "@jupyter-widgets/base",
            "_model_module_version": "1.2.0",
            "_model_name": "LayoutModel",
            "_view_count": null,
            "_view_module": "@jupyter-widgets/base",
            "_view_module_version": "1.2.0",
            "_view_name": "LayoutView",
            "align_content": null,
            "align_items": null,
            "align_self": null,
            "border": null,
            "bottom": null,
            "display": null,
            "flex": null,
            "flex_flow": null,
            "grid_area": null,
            "grid_auto_columns": null,
            "grid_auto_flow": null,
            "grid_auto_rows": null,
            "grid_column": null,
            "grid_gap": null,
            "grid_row": null,
            "grid_template_areas": null,
            "grid_template_columns": null,
            "grid_template_rows": null,
            "height": null,
            "justify_content": null,
            "justify_items": null,
            "left": null,
            "margin": null,
            "max_height": null,
            "max_width": null,
            "min_height": null,
            "min_width": null,
            "object_fit": null,
            "object_position": null,
            "order": null,
            "overflow": null,
            "overflow_x": null,
            "overflow_y": null,
            "padding": null,
            "right": null,
            "top": null,
            "visibility": null,
            "width": null
          }
        },
        "9f116acdf3294acf9adf90445d709798": {
          "model_module": "@jupyter-widgets/controls",
          "model_name": "ProgressStyleModel",
          "model_module_version": "1.5.0",
          "state": {
            "_model_module": "@jupyter-widgets/controls",
            "_model_module_version": "1.5.0",
            "_model_name": "ProgressStyleModel",
            "_view_count": null,
            "_view_module": "@jupyter-widgets/base",
            "_view_module_version": "1.2.0",
            "_view_name": "StyleView",
            "bar_color": null,
            "description_width": ""
          }
        },
        "b02b058f9eb143798b2bd5e0c81a7a11": {
          "model_module": "@jupyter-widgets/base",
          "model_name": "LayoutModel",
          "model_module_version": "1.2.0",
          "state": {
            "_model_module": "@jupyter-widgets/base",
            "_model_module_version": "1.2.0",
            "_model_name": "LayoutModel",
            "_view_count": null,
            "_view_module": "@jupyter-widgets/base",
            "_view_module_version": "1.2.0",
            "_view_name": "LayoutView",
            "align_content": null,
            "align_items": null,
            "align_self": null,
            "border": null,
            "bottom": null,
            "display": null,
            "flex": null,
            "flex_flow": null,
            "grid_area": null,
            "grid_auto_columns": null,
            "grid_auto_flow": null,
            "grid_auto_rows": null,
            "grid_column": null,
            "grid_gap": null,
            "grid_row": null,
            "grid_template_areas": null,
            "grid_template_columns": null,
            "grid_template_rows": null,
            "height": null,
            "justify_content": null,
            "justify_items": null,
            "left": null,
            "margin": null,
            "max_height": null,
            "max_width": null,
            "min_height": null,
            "min_width": null,
            "object_fit": null,
            "object_position": null,
            "order": null,
            "overflow": null,
            "overflow_x": null,
            "overflow_y": null,
            "padding": null,
            "right": null,
            "top": null,
            "visibility": null,
            "width": null
          }
        },
        "d38bf21af72d4953ac32036008be8cfd": {
          "model_module": "@jupyter-widgets/controls",
          "model_name": "DescriptionStyleModel",
          "model_module_version": "1.5.0",
          "state": {
            "_model_module": "@jupyter-widgets/controls",
            "_model_module_version": "1.5.0",
            "_model_name": "DescriptionStyleModel",
            "_view_count": null,
            "_view_module": "@jupyter-widgets/base",
            "_view_module_version": "1.2.0",
            "_view_name": "StyleView",
            "description_width": ""
          }
        },
        "cc24119e2ab7419b8d9686c4de076c53": {
          "model_module": "@jupyter-widgets/controls",
          "model_name": "HBoxModel",
          "model_module_version": "1.5.0",
          "state": {
            "_dom_classes": [],
            "_model_module": "@jupyter-widgets/controls",
            "_model_module_version": "1.5.0",
            "_model_name": "HBoxModel",
            "_view_count": null,
            "_view_module": "@jupyter-widgets/controls",
            "_view_module_version": "1.5.0",
            "_view_name": "HBoxView",
            "box_style": "",
            "children": [
              "IPY_MODEL_9eb255bd38eb4792a7306ff1da31376f",
              "IPY_MODEL_e888a022822c40b79fabe6dbd8a638d9",
              "IPY_MODEL_7540f217780d4835b9dee4f58bcf448a"
            ],
            "layout": "IPY_MODEL_ce5ad92d35bc4ecebaf4e277f230f071"
          }
        },
        "9eb255bd38eb4792a7306ff1da31376f": {
          "model_module": "@jupyter-widgets/controls",
          "model_name": "HTMLModel",
          "model_module_version": "1.5.0",
          "state": {
            "_dom_classes": [],
            "_model_module": "@jupyter-widgets/controls",
            "_model_module_version": "1.5.0",
            "_model_name": "HTMLModel",
            "_view_count": null,
            "_view_module": "@jupyter-widgets/controls",
            "_view_module_version": "1.5.0",
            "_view_name": "HTMLView",
            "description": "",
            "description_tooltip": null,
            "layout": "IPY_MODEL_b02cf1a4b7e84bbcab987d966e083b97",
            "placeholder": "​",
            "style": "IPY_MODEL_9fc9cd14d1d44086b76366e4154f8eec",
            "value": "Downloading: 100%"
          }
        },
        "e888a022822c40b79fabe6dbd8a638d9": {
          "model_module": "@jupyter-widgets/controls",
          "model_name": "FloatProgressModel",
          "model_module_version": "1.5.0",
          "state": {
            "_dom_classes": [],
            "_model_module": "@jupyter-widgets/controls",
            "_model_module_version": "1.5.0",
            "_model_name": "FloatProgressModel",
            "_view_count": null,
            "_view_module": "@jupyter-widgets/controls",
            "_view_module_version": "1.5.0",
            "_view_name": "ProgressView",
            "bar_style": "success",
            "description": "",
            "description_tooltip": null,
            "layout": "IPY_MODEL_2fec1fcb6f2542b3b4be575ae6d494ab",
            "max": 654226731,
            "min": 0,
            "orientation": "horizontal",
            "style": "IPY_MODEL_0fe2f54cea8140cfa491cecfcbb9c965",
            "value": 654226731
          }
        },
        "7540f217780d4835b9dee4f58bcf448a": {
          "model_module": "@jupyter-widgets/controls",
          "model_name": "HTMLModel",
          "model_module_version": "1.5.0",
          "state": {
            "_dom_classes": [],
            "_model_module": "@jupyter-widgets/controls",
            "_model_module_version": "1.5.0",
            "_model_name": "HTMLModel",
            "_view_count": null,
            "_view_module": "@jupyter-widgets/controls",
            "_view_module_version": "1.5.0",
            "_view_name": "HTMLView",
            "description": "",
            "description_tooltip": null,
            "layout": "IPY_MODEL_d66e4a19106340b98673e7152d8ac363",
            "placeholder": "​",
            "style": "IPY_MODEL_96adaae26a8041dd941197153433d1ec",
            "value": " 624M/624M [01:18&lt;00:00, 12.8MB/s]"
          }
        },
        "ce5ad92d35bc4ecebaf4e277f230f071": {
          "model_module": "@jupyter-widgets/base",
          "model_name": "LayoutModel",
          "model_module_version": "1.2.0",
          "state": {
            "_model_module": "@jupyter-widgets/base",
            "_model_module_version": "1.2.0",
            "_model_name": "LayoutModel",
            "_view_count": null,
            "_view_module": "@jupyter-widgets/base",
            "_view_module_version": "1.2.0",
            "_view_name": "LayoutView",
            "align_content": null,
            "align_items": null,
            "align_self": null,
            "border": null,
            "bottom": null,
            "display": null,
            "flex": null,
            "flex_flow": null,
            "grid_area": null,
            "grid_auto_columns": null,
            "grid_auto_flow": null,
            "grid_auto_rows": null,
            "grid_column": null,
            "grid_gap": null,
            "grid_row": null,
            "grid_template_areas": null,
            "grid_template_columns": null,
            "grid_template_rows": null,
            "height": null,
            "justify_content": null,
            "justify_items": null,
            "left": null,
            "margin": null,
            "max_height": null,
            "max_width": null,
            "min_height": null,
            "min_width": null,
            "object_fit": null,
            "object_position": null,
            "order": null,
            "overflow": null,
            "overflow_x": null,
            "overflow_y": null,
            "padding": null,
            "right": null,
            "top": null,
            "visibility": null,
            "width": null
          }
        },
        "b02cf1a4b7e84bbcab987d966e083b97": {
          "model_module": "@jupyter-widgets/base",
          "model_name": "LayoutModel",
          "model_module_version": "1.2.0",
          "state": {
            "_model_module": "@jupyter-widgets/base",
            "_model_module_version": "1.2.0",
            "_model_name": "LayoutModel",
            "_view_count": null,
            "_view_module": "@jupyter-widgets/base",
            "_view_module_version": "1.2.0",
            "_view_name": "LayoutView",
            "align_content": null,
            "align_items": null,
            "align_self": null,
            "border": null,
            "bottom": null,
            "display": null,
            "flex": null,
            "flex_flow": null,
            "grid_area": null,
            "grid_auto_columns": null,
            "grid_auto_flow": null,
            "grid_auto_rows": null,
            "grid_column": null,
            "grid_gap": null,
            "grid_row": null,
            "grid_template_areas": null,
            "grid_template_columns": null,
            "grid_template_rows": null,
            "height": null,
            "justify_content": null,
            "justify_items": null,
            "left": null,
            "margin": null,
            "max_height": null,
            "max_width": null,
            "min_height": null,
            "min_width": null,
            "object_fit": null,
            "object_position": null,
            "order": null,
            "overflow": null,
            "overflow_x": null,
            "overflow_y": null,
            "padding": null,
            "right": null,
            "top": null,
            "visibility": null,
            "width": null
          }
        },
        "9fc9cd14d1d44086b76366e4154f8eec": {
          "model_module": "@jupyter-widgets/controls",
          "model_name": "DescriptionStyleModel",
          "model_module_version": "1.5.0",
          "state": {
            "_model_module": "@jupyter-widgets/controls",
            "_model_module_version": "1.5.0",
            "_model_name": "DescriptionStyleModel",
            "_view_count": null,
            "_view_module": "@jupyter-widgets/base",
            "_view_module_version": "1.2.0",
            "_view_name": "StyleView",
            "description_width": ""
          }
        },
        "2fec1fcb6f2542b3b4be575ae6d494ab": {
          "model_module": "@jupyter-widgets/base",
          "model_name": "LayoutModel",
          "model_module_version": "1.2.0",
          "state": {
            "_model_module": "@jupyter-widgets/base",
            "_model_module_version": "1.2.0",
            "_model_name": "LayoutModel",
            "_view_count": null,
            "_view_module": "@jupyter-widgets/base",
            "_view_module_version": "1.2.0",
            "_view_name": "LayoutView",
            "align_content": null,
            "align_items": null,
            "align_self": null,
            "border": null,
            "bottom": null,
            "display": null,
            "flex": null,
            "flex_flow": null,
            "grid_area": null,
            "grid_auto_columns": null,
            "grid_auto_flow": null,
            "grid_auto_rows": null,
            "grid_column": null,
            "grid_gap": null,
            "grid_row": null,
            "grid_template_areas": null,
            "grid_template_columns": null,
            "grid_template_rows": null,
            "height": null,
            "justify_content": null,
            "justify_items": null,
            "left": null,
            "margin": null,
            "max_height": null,
            "max_width": null,
            "min_height": null,
            "min_width": null,
            "object_fit": null,
            "object_position": null,
            "order": null,
            "overflow": null,
            "overflow_x": null,
            "overflow_y": null,
            "padding": null,
            "right": null,
            "top": null,
            "visibility": null,
            "width": null
          }
        },
        "0fe2f54cea8140cfa491cecfcbb9c965": {
          "model_module": "@jupyter-widgets/controls",
          "model_name": "ProgressStyleModel",
          "model_module_version": "1.5.0",
          "state": {
            "_model_module": "@jupyter-widgets/controls",
            "_model_module_version": "1.5.0",
            "_model_name": "ProgressStyleModel",
            "_view_count": null,
            "_view_module": "@jupyter-widgets/base",
            "_view_module_version": "1.2.0",
            "_view_name": "StyleView",
            "bar_color": null,
            "description_width": ""
          }
        },
        "d66e4a19106340b98673e7152d8ac363": {
          "model_module": "@jupyter-widgets/base",
          "model_name": "LayoutModel",
          "model_module_version": "1.2.0",
          "state": {
            "_model_module": "@jupyter-widgets/base",
            "_model_module_version": "1.2.0",
            "_model_name": "LayoutModel",
            "_view_count": null,
            "_view_module": "@jupyter-widgets/base",
            "_view_module_version": "1.2.0",
            "_view_name": "LayoutView",
            "align_content": null,
            "align_items": null,
            "align_self": null,
            "border": null,
            "bottom": null,
            "display": null,
            "flex": null,
            "flex_flow": null,
            "grid_area": null,
            "grid_auto_columns": null,
            "grid_auto_flow": null,
            "grid_auto_rows": null,
            "grid_column": null,
            "grid_gap": null,
            "grid_row": null,
            "grid_template_areas": null,
            "grid_template_columns": null,
            "grid_template_rows": null,
            "height": null,
            "justify_content": null,
            "justify_items": null,
            "left": null,
            "margin": null,
            "max_height": null,
            "max_width": null,
            "min_height": null,
            "min_width": null,
            "object_fit": null,
            "object_position": null,
            "order": null,
            "overflow": null,
            "overflow_x": null,
            "overflow_y": null,
            "padding": null,
            "right": null,
            "top": null,
            "visibility": null,
            "width": null
          }
        },
        "96adaae26a8041dd941197153433d1ec": {
          "model_module": "@jupyter-widgets/controls",
          "model_name": "DescriptionStyleModel",
          "model_module_version": "1.5.0",
          "state": {
            "_model_module": "@jupyter-widgets/controls",
            "_model_module_version": "1.5.0",
            "_model_name": "DescriptionStyleModel",
            "_view_count": null,
            "_view_module": "@jupyter-widgets/base",
            "_view_module_version": "1.2.0",
            "_view_name": "StyleView",
            "description_width": ""
          }
        }
      }
    }
  },
  "cells": [
    {
      "cell_type": "markdown",
      "source": [
        "# Spell Correction\r\n"
      ],
      "metadata": {
        "id": "V3vFT6V84Fe2"
      }
    },
    {
      "cell_type": "markdown",
      "source": [
        "Link to drive folder: https://drive.google.com/drive/folders/1O4GtIxJf7UhCnEct8dzKR9LfMDn2_zNH?usp=sharing"
      ],
      "metadata": {
        "id": "rSgCsmcp4egD"
      }
    },
    {
      "cell_type": "markdown",
      "source": [
        "Add above folder to your drive (shortcut) and run this notebook inside `HW3` folder."
      ],
      "metadata": {
        "id": "qi747jdn4ktD"
      }
    },
    {
      "cell_type": "markdown",
      "source": [
        "# Transformer"
      ],
      "metadata": {
        "id": "3Xc2vJp_3zoS"
      }
    },
    {
      "cell_type": "markdown",
      "source": [
        "## Huggingface pre-trained Bert model"
      ],
      "metadata": {
        "id": "lsYjWZCTO8fp"
      }
    },
    {
      "cell_type": "code",
      "execution_count": null,
      "source": [
        "%%capture\r\n",
        "!pip install Levenshtein\r\n",
        "!pip install transformers\r\n",
        "!pip install hazm"
      ],
      "outputs": [],
      "metadata": {
        "id": "hFeT5mhh9fUi"
      }
    },
    {
      "cell_type": "code",
      "execution_count": null,
      "source": [
        "from transformers import AutoTokenizer, AutoModelForMaskedLM\r\n",
        "\r\n",
        "tokenizer = AutoTokenizer.from_pretrained(\"HooshvareLab/bert-fa-base-uncased\")\r\n",
        "model = AutoModelForMaskedLM.from_pretrained(\"HooshvareLab/bert-fa-base-uncased\")"
      ],
      "outputs": [
        {
          "output_type": "display_data",
          "data": {
            "text/plain": [
              "Downloading:   0%|          | 0.00/440 [00:00<?, ?B/s]"
            ],
            "application/vnd.jupyter.widget-view+json": {
              "version_major": 2,
              "version_minor": 0,
              "model_id": "5788221ee1ce44f39dcd519f59999c12"
            }
          },
          "metadata": {}
        },
        {
          "output_type": "display_data",
          "data": {
            "text/plain": [
              "Downloading:   0%|          | 0.00/1.14M [00:00<?, ?B/s]"
            ],
            "application/vnd.jupyter.widget-view+json": {
              "version_major": 2,
              "version_minor": 0,
              "model_id": "20c73f39cf444a9a91d307cedab3b291"
            }
          },
          "metadata": {}
        },
        {
          "output_type": "display_data",
          "data": {
            "text/plain": [
              "Downloading:   0%|          | 0.00/624M [00:00<?, ?B/s]"
            ],
            "application/vnd.jupyter.widget-view+json": {
              "version_major": 2,
              "version_minor": 0,
              "model_id": "cc24119e2ab7419b8d9686c4de076c53"
            }
          },
          "metadata": {}
        },
        {
          "output_type": "stream",
          "name": "stderr",
          "text": [
            "Some weights of the model checkpoint at HooshvareLab/bert-fa-base-uncased were not used when initializing BertForMaskedLM: ['cls.seq_relationship.weight', 'cls.seq_relationship.bias']\n",
            "- This IS expected if you are initializing BertForMaskedLM from the checkpoint of a model trained on another task or with another architecture (e.g. initializing a BertForSequenceClassification model from a BertForPreTraining model).\n",
            "- This IS NOT expected if you are initializing BertForMaskedLM from the checkpoint of a model that you expect to be exactly identical (initializing a BertForSequenceClassification model from a BertForSequenceClassification model).\n"
          ]
        }
      ],
      "metadata": {
        "colab": {
          "base_uri": "https://localhost:8080/",
          "height": 185,
          "referenced_widgets": [
            "5788221ee1ce44f39dcd519f59999c12",
            "a76c99edcf824c38ac8af67837c1033e",
            "03c8b7daa72c48998b2075410a4b8321",
            "a75555db41fc4aa49a9dfe0ede124cc7",
            "cd3aafc64af240a3a3eac4a955155f21",
            "d35d6273e58e4e2dba8cedac677e9b65",
            "e4abf32b14a64e3aae348411e2eb1f5e",
            "03c5ee70c4464f089a8b78818aeca876",
            "ad5f74cd02a546f7a31784adc9503878",
            "43b64b7642034a68b1b21415e847d890",
            "4709c68ae03445ebb3e2ef90ed6384e4",
            "20c73f39cf444a9a91d307cedab3b291",
            "8aa25c84ce8c451e865a268ed527a50b",
            "1112a555a6934707bbbebc7ba344f26b",
            "276e998ec3434f9a8b77a97e3912bd34",
            "ee5a07d388c345abb7eff32c60104748",
            "c141309d9a8e4fa789df60ea046e1871",
            "a1f4b43b1b3b43fda3e91a280cfdece9",
            "b48c173d783246b1901f2b9dc3272a04",
            "9f116acdf3294acf9adf90445d709798",
            "b02b058f9eb143798b2bd5e0c81a7a11",
            "d38bf21af72d4953ac32036008be8cfd",
            "cc24119e2ab7419b8d9686c4de076c53",
            "9eb255bd38eb4792a7306ff1da31376f",
            "e888a022822c40b79fabe6dbd8a638d9",
            "7540f217780d4835b9dee4f58bcf448a",
            "ce5ad92d35bc4ecebaf4e277f230f071",
            "b02cf1a4b7e84bbcab987d966e083b97",
            "9fc9cd14d1d44086b76366e4154f8eec",
            "2fec1fcb6f2542b3b4be575ae6d494ab",
            "0fe2f54cea8140cfa491cecfcbb9c965",
            "d66e4a19106340b98673e7152d8ac363",
            "96adaae26a8041dd941197153433d1ec"
          ]
        },
        "id": "vZNhTvX20q_a",
        "outputId": "bb6f3ba4-5e31-452d-83c1-a9127ff4165b"
      }
    },
    {
      "cell_type": "code",
      "execution_count": null,
      "source": [
        "from torch.nn import functional as F\r\n",
        "import torch\r\n",
        "import Levenshtein\r\n",
        "import re\r\n",
        "from hazm import *\r\n",
        "\r\n",
        "\r\n",
        "def find_possible_mistakes(inp, model, top_k=1000):\r\n",
        "    # inp = inp.replace(\"\\u200C\", \" \")\r\n",
        "    tokens = word_tokenize(inp)\r\n",
        "    # tokens = inp.split()\r\n",
        "    # tokens = tokenizer.tokenize(inp)\r\n",
        "    mistakes = []\r\n",
        "    for i, token in enumerate(tokens):\r\n",
        "        # print(\"-----------\", token, \"-----------\")\r\n",
        "        token = token.replace(\"\\u200C\", \"\")\r\n",
        "        text = \" \".join(tokens[:i]) + tokenizer.mask_token + \" \".join(tokens[i+1:])\r\n",
        "        input = tokenizer.encode_plus(text, return_tensors = \"pt\")\r\n",
        "        mask_index = torch.where(input[\"input_ids\"][0] == tokenizer.mask_token_id)\r\n",
        "        logits = model(**input)\r\n",
        "        logits = logits.logits\r\n",
        "        softmax = F.softmax(logits, dim = -1)\r\n",
        "        mask_word = softmax[0, mask_index, :]\r\n",
        "        tops = torch.topk(mask_word, top_k, dim = 1)[1][0]\r\n",
        "        \r\n",
        "        least_dist = float(\"inf\")\r\n",
        "        corrected_word = token\r\n",
        "        for w in tops:\r\n",
        "            word = tokenizer.decode([w])\r\n",
        "            dist = Levenshtein.distance(token, word)\r\n",
        "            if dist < least_dist:\r\n",
        "                corrected_word = word\r\n",
        "                least_dist = dist\r\n",
        "\r\n",
        "        if token != corrected_word:\r\n",
        "            for reg in re.finditer(token, inp):\r\n",
        "                s, e = reg.start(), reg.end()\r\n",
        "            mistakes.append({\"raw\": token, \"corrected\": corrected_word, \"span\": [s, e]})\r\n",
        "\r\n",
        "    return mistakes"
      ],
      "outputs": [],
      "metadata": {
        "id": "hL_xhPn2_ls4"
      }
    },
    {
      "cell_type": "code",
      "execution_count": null,
      "source": [
        "input0 = \"این دانشمند تیرانی باعث افتخار است.\"\r\n",
        "input1 = \"پس از سال‌ها تلاش رازی موفق به کسف الکل شد. این دانشمند تیرانی باعث افتخار در تاریخ کور است.\"\r\n",
        "input2 = \"بسیاری از مباحث علوم غیرطبیعی با استفاده از فیریک دنیای مادی ابل توجیح نیست و برای یادگیری باید به فلسفه‌های خاصی رجو کرد.\"\r\n",
        "input3 = 'اما متأسفانه به قدری ساختار سارمان سینمایی و در سطح وسیع‌تر وزارت فرهنگ و ارشاد اصلامی عقب‌مانده و ناکارآمد است که عملا جلوی بهبود هر مشکلی را می‌گیرد!'\r\n",
        "input4 = 'منطق جغرافیا و جئوپلیتیک همیشه ثابت است و قابل چشم‌پوسی نیست.‎'"
      ],
      "outputs": [],
      "metadata": {
        "id": "_sgfbNfd9lgj"
      }
    },
    {
      "cell_type": "markdown",
      "source": [
        "### Pre-trained model results"
      ],
      "metadata": {
        "id": "Hz1BtP5QSbpg"
      }
    },
    {
      "cell_type": "code",
      "execution_count": null,
      "source": [
        "import json\r\n",
        "\r\n",
        "result = find_possible_mistakes(input1, model, top_k=1000)\r\n",
        "print(input1)\r\n",
        "print(json.dumps(result, indent=4, ensure_ascii=False, skipkeys=True,))"
      ],
      "outputs": [
        {
          "output_type": "stream",
          "name": "stdout",
          "text": [
            "پس از سال‌ها تلاش رازی موفق به کسف الکل شد. این دانشمند تیرانی باعث افتخار در تاریخ کور است.\n",
            "[\n",
            "    {\n",
            "        \"raw\": \"رازی\",\n",
            "        \"corrected\": \"باز\",\n",
            "        \"span\": [\n",
            "            18,\n",
            "            22\n",
            "        ]\n",
            "    },\n",
            "    {\n",
            "        \"raw\": \"کسف\",\n",
            "        \"corrected\": \"کشف\",\n",
            "        \"span\": [\n",
            "            31,\n",
            "            34\n",
            "        ]\n",
            "    },\n",
            "    {\n",
            "        \"raw\": \"الکل\",\n",
            "        \"corrected\": \"اول\",\n",
            "        \"span\": [\n",
            "            35,\n",
            "            39\n",
            "        ]\n",
            "    },\n",
            "    {\n",
            "        \"raw\": \"تیرانی\",\n",
            "        \"corrected\": \"ایرانی\",\n",
            "        \"span\": [\n",
            "            56,\n",
            "            62\n",
            "        ]\n",
            "    },\n",
            "    {\n",
            "        \"raw\": \"کور\",\n",
            "        \"corrected\": \"کشور\",\n",
            "        \"span\": [\n",
            "            84,\n",
            "            87\n",
            "        ]\n",
            "    }\n",
            "]\n"
          ]
        }
      ],
      "metadata": {
        "colab": {
          "base_uri": "https://localhost:8080/"
        },
        "id": "CNEwa1unA3qb",
        "outputId": "e270942d-e6cb-4c97-b1e5-442f6d322071"
      }
    },
    {
      "cell_type": "code",
      "execution_count": null,
      "source": [
        "import json\r\n",
        "\r\n",
        "result = find_possible_mistakes(input2, model, top_k=1000)\r\n",
        "print(input2)\r\n",
        "print(json.dumps(result, indent=4, ensure_ascii=False, skipkeys=True,))"
      ],
      "outputs": [
        {
          "output_type": "stream",
          "name": "stdout",
          "text": [
            "بسیاری از مباحث علوم غیرطبیعی با استفاده از فیریک دنیای مادی ابل توجیح نیست و برای یادگیری باید به فلسفه‌های خاصی رجو کرد.\n",
            "[\n",
            "    {\n",
            "        \"raw\": \"فیریک\",\n",
            "        \"corrected\": \"فیزیک\",\n",
            "        \"span\": [\n",
            "            44,\n",
            "            49\n",
            "        ]\n",
            "    },\n",
            "    {\n",
            "        \"raw\": \"ابل\",\n",
            "        \"corrected\": \"قابل\",\n",
            "        \"span\": [\n",
            "            61,\n",
            "            64\n",
            "        ]\n",
            "    },\n",
            "    {\n",
            "        \"raw\": \"توجیح\",\n",
            "        \"corrected\": \"توجیه\",\n",
            "        \"span\": [\n",
            "            65,\n",
            "            70\n",
            "        ]\n",
            "    },\n",
            "    {\n",
            "        \"raw\": \"رجو\",\n",
            "        \"corrected\": \"رجوع\",\n",
            "        \"span\": [\n",
            "            114,\n",
            "            117\n",
            "        ]\n",
            "    }\n",
            "]\n"
          ]
        }
      ],
      "metadata": {
        "id": "khTioECUR39F",
        "colab": {
          "base_uri": "https://localhost:8080/"
        },
        "outputId": "ac83344e-5d7a-4dae-8251-7a629b83d697"
      }
    },
    {
      "cell_type": "code",
      "execution_count": null,
      "source": [
        "result = find_possible_mistakes(input3, model, top_k=1000)\r\n",
        "print(input3)\r\n",
        "print(json.dumps(result, indent=4, ensure_ascii=False, skipkeys=True,))"
      ],
      "outputs": [
        {
          "output_type": "stream",
          "name": "stdout",
          "text": [
            "اما متأسفانه به قدری ساختار سارمان سینمایی و در سطح وسیع‌تر وزارت فرهنگ و ارشاد اصلامی عقب‌مانده و ناکارآمد است که عملا جلوی بهبود هر مشکلی را می‌گیرد!\n",
            "[\n",
            "    {\n",
            "        \"raw\": \"متأسفانه\",\n",
            "        \"corrected\": \"متاسفانه\",\n",
            "        \"span\": [\n",
            "            4,\n",
            "            12\n",
            "        ]\n",
            "    },\n",
            "    {\n",
            "        \"raw\": \"سارمان\",\n",
            "        \"corrected\": \"سازمان\",\n",
            "        \"span\": [\n",
            "            28,\n",
            "            34\n",
            "        ]\n",
            "    },\n",
            "    {\n",
            "        \"raw\": \"اصلامی\",\n",
            "        \"corrected\": \"اسلامی\",\n",
            "        \"span\": [\n",
            "            80,\n",
            "            86\n",
            "        ]\n",
            "    },\n",
            "    {\n",
            "        \"raw\": \"عقبمانده\",\n",
            "        \"corrected\": \"نمانده\",\n",
            "        \"span\": [\n",
            "            80,\n",
            "            86\n",
            "        ]\n",
            "    },\n",
            "    {\n",
            "        \"raw\": \"ناکارآمد\",\n",
            "        \"corrected\": \"ناکارامد\",\n",
            "        \"span\": [\n",
            "            99,\n",
            "            107\n",
            "        ]\n",
            "    }\n",
            "]\n"
          ]
        }
      ],
      "metadata": {
        "colab": {
          "base_uri": "https://localhost:8080/"
        },
        "id": "CGPoE2-l5ojw",
        "outputId": "f92d6acd-f71f-4cde-e624-7c01d9e35be3"
      }
    },
    {
      "cell_type": "code",
      "execution_count": null,
      "source": [
        "result = find_possible_mistakes(input4, model, top_k=1000)\r\n",
        "print(input4)\r\n",
        "print(json.dumps(result, indent=4, ensure_ascii=False, skipkeys=True,))"
      ],
      "outputs": [
        {
          "output_type": "stream",
          "name": "stdout",
          "text": [
            "منطق جغرافیا و جئوپلیتیک همیشه ثابت است و قابل چشم‌پوسی نیست.‎\n",
            "[\n",
            "    {\n",
            "        \"raw\": \"جغرافیا\",\n",
            "        \"corrected\": \"جاوا\",\n",
            "        \"span\": [\n",
            "            5,\n",
            "            12\n",
            "        ]\n",
            "    },\n",
            "    {\n",
            "        \"raw\": \"جئوپلیتیک\",\n",
            "        \"corrected\": \"ژيوپلیتیک\",\n",
            "        \"span\": [\n",
            "            15,\n",
            "            24\n",
            "        ]\n",
            "    },\n",
            "    {\n",
            "        \"raw\": \"چشمپوسی\",\n",
            "        \"corrected\": \"چشمپوشی\",\n",
            "        \"span\": [\n",
            "            15,\n",
            "            24\n",
            "        ]\n",
            "    },\n",
            "    {\n",
            "        \"raw\": \"‎\",\n",
            "        \"corrected\": \".\",\n",
            "        \"span\": [\n",
            "            61,\n",
            "            62\n",
            "        ]\n",
            "    }\n",
            "]\n"
          ]
        }
      ],
      "metadata": {
        "colab": {
          "base_uri": "https://localhost:8080/"
        },
        "id": "e2xBwpv95pA-",
        "outputId": "bdfcf12c-08ec-4bcf-fd4c-07e54929dd70"
      }
    },
    {
      "cell_type": "markdown",
      "source": [
        "## Fine-tune with more data"
      ],
      "metadata": {
        "id": "qJed9qr_QGdp"
      }
    },
    {
      "cell_type": "code",
      "execution_count": null,
      "source": [
        "from google.colab import drive\r\n",
        "drive.mount('/content/drive')"
      ],
      "outputs": [
        {
          "output_type": "stream",
          "name": "stdout",
          "text": [
            "Drive already mounted at /content/drive; to attempt to forcibly remount, call drive.mount(\"/content/drive\", force_remount=True).\n"
          ]
        }
      ],
      "metadata": {
        "colab": {
          "base_uri": "https://localhost:8080/"
        },
        "id": "sZ3FVu0LQKiD",
        "outputId": "468d4ec0-3026-4606-fd16-9b688f1b9a52"
      }
    },
    {
      "cell_type": "code",
      "execution_count": null,
      "source": [
        "%cd /content/drive/MyDrive/NLP/HW3/NLP-HW3-Resources/\r\n",
        "\r\n",
        "import zipfile\r\n",
        "\r\n",
        "datasets = [\"cultural.zip\", \"economics.zip\", \"politics.zip\", \"sports.zip\"]\r\n",
        "data = []\r\n",
        "\r\n",
        "\r\n",
        "for dataset in datasets:\r\n",
        "    with zipfile.ZipFile(dataset) as zipper:\r\n",
        "        with zipper.open(dataset.split(\".\")[0]+'.txt') as fp:\r\n",
        "            data += fp.read().decode('utf-8').split('\\n')[:500]\r\n",
        "\r\n",
        "\r\n",
        "%cd /content/drive/MyDrive/NLP/HW3/"
      ],
      "outputs": [
        {
          "output_type": "stream",
          "name": "stdout",
          "text": [
            "/content/drive/.shortcut-targets-by-id/1aAgsAE_TSLzzFsdBLSIvjyv20Iu-wLlq/NLP-HW3-Resources\n",
            "/content/drive/MyDrive/NLP/HW3\n"
          ]
        }
      ],
      "metadata": {
        "id": "HD27Ky5MUf3h",
        "colab": {
          "base_uri": "https://localhost:8080/"
        },
        "outputId": "4052b4a8-ced5-47ee-d24a-b3cadaea95ff"
      }
    },
    {
      "cell_type": "code",
      "execution_count": null,
      "source": [
        "inputs = tokenizer(data, return_tensors='pt', max_length=512, truncation=True, padding='max_length')\r\n",
        "\r\n",
        "# create a key for labels\r\n",
        "inputs['labels'] = inputs.input_ids.detach().clone()\r\n",
        "\r\n",
        "# create random array of floats in equal dimension to input_ids\r\n",
        "rand = torch.rand(inputs.input_ids.shape)\r\n",
        "# create mask array: where the random array is less than 0.15, we set true, also where it is not CLS or SEP\r\n",
        "mask_arr = (rand < 0.15) * (inputs.input_ids != 101) * (inputs.input_ids != 102) * (inputs.input_ids != 0)\r\n",
        "\r\n",
        "# create selection from mask_arr\r\n",
        "# FYI: [MASK] == 103\r\n",
        "selection = []\r\n",
        "\r\n",
        "for i in range(inputs.input_ids.shape[0]):\r\n",
        "    selection.append(torch.flatten(mask_arr[i].nonzero()).tolist())\r\n",
        "    inputs.input_ids[i, selection[i]] = 103"
      ],
      "outputs": [],
      "metadata": {
        "id": "1Ux81YmpEzMV"
      }
    },
    {
      "cell_type": "code",
      "execution_count": null,
      "source": [
        "class Dataset(torch.utils.data.Dataset):\r\n",
        "    def __init__(self, encodings):\r\n",
        "        self.encodings = encodings\r\n",
        "    def __getitem__(self, idx):\r\n",
        "        return {key: torch.tensor(val[idx]) for key, val in self.encodings.items()}\r\n",
        "    def __len__(self):\r\n",
        "        return len(self.encodings.input_ids)\r\n",
        "\r\n",
        "dataset = Dataset(inputs)"
      ],
      "outputs": [],
      "metadata": {
        "id": "Z2i-7QC8JE99"
      }
    },
    {
      "cell_type": "code",
      "execution_count": null,
      "source": [
        "from transformers import TrainingArguments\r\n",
        "from transformers import Trainer\r\n",
        "import warnings\r\n",
        "warnings.filterwarnings(\"ignore\")\r\n",
        "\r\n",
        "epochs = 5\r\n",
        "batch_size = 8\r\n",
        "\r\n",
        "args = TrainingArguments(\r\n",
        "    output_dir='out',\r\n",
        "    per_device_train_batch_size=batch_size,\r\n",
        "    num_train_epochs=epochs\r\n",
        ")\r\n",
        "\r\n",
        "trainer = Trainer(\r\n",
        "    model=model,\r\n",
        "    args=args,\r\n",
        "    train_dataset=dataset\r\n",
        ")\r\n",
        "\r\n",
        "trainer.train()"
      ],
      "outputs": [
        {
          "output_type": "stream",
          "name": "stderr",
          "text": [
            "***** Running training *****\n",
            "  Num examples = 2000\n",
            "  Num Epochs = 5\n",
            "  Instantaneous batch size per device = 8\n",
            "  Total train batch size (w. parallel, distributed & accumulation) = 8\n",
            "  Gradient Accumulation steps = 1\n",
            "  Total optimization steps = 1250\n"
          ]
        },
        {
          "output_type": "display_data",
          "data": {
            "text/plain": [
              "<IPython.core.display.HTML object>"
            ],
            "text/html": [
              "\n",
              "    <div>\n",
              "      \n",
              "      <progress value='1250' max='1250' style='width:300px; height:20px; vertical-align: middle;'></progress>\n",
              "      [1250/1250 31:50, Epoch 5/5]\n",
              "    </div>\n",
              "    <table border=\"1\" class=\"dataframe\">\n",
              "  <thead>\n",
              " <tr style=\"text-align: left;\">\n",
              "      <th>Step</th>\n",
              "      <th>Training Loss</th>\n",
              "    </tr>\n",
              "  </thead>\n",
              "  <tbody>\n",
              "    <tr>\n",
              "      <td>500</td>\n",
              "      <td>0.137600</td>\n",
              "    </tr>\n",
              "    <tr>\n",
              "      <td>1000</td>\n",
              "      <td>0.022300</td>\n",
              "    </tr>\n",
              "  </tbody>\n",
              "</table><p>"
            ]
          },
          "metadata": {}
        },
        {
          "output_type": "stream",
          "name": "stderr",
          "text": [
            "Saving model checkpoint to out/checkpoint-500\n",
            "Configuration saved in out/checkpoint-500/config.json\n",
            "Model weights saved in out/checkpoint-500/pytorch_model.bin\n",
            "Saving model checkpoint to out/checkpoint-1000\n",
            "Configuration saved in out/checkpoint-1000/config.json\n",
            "Model weights saved in out/checkpoint-1000/pytorch_model.bin\n",
            "\n",
            "\n",
            "Training completed. Do not forget to share your model on huggingface.co/models =)\n",
            "\n",
            "\n"
          ]
        },
        {
          "output_type": "execute_result",
          "data": {
            "text/plain": [
              "TrainOutput(global_step=1250, training_loss=0.06618174839019775, metrics={'train_runtime': 1912.7121, 'train_samples_per_second': 5.228, 'train_steps_per_second': 0.654, 'total_flos': 2634182492160000.0, 'train_loss': 0.06618174839019775, 'epoch': 5.0})"
            ]
          },
          "metadata": {},
          "execution_count": 11
        }
      ],
      "metadata": {
        "id": "-Vo79hJgKRhu",
        "colab": {
          "base_uri": "https://localhost:8080/",
          "height": 488
        },
        "outputId": "5c66e247-7776-4fa3-a1fe-e7e2cb0786aa"
      }
    },
    {
      "cell_type": "markdown",
      "source": [
        "### Results after fine-tuning"
      ],
      "metadata": {
        "id": "Sh4W7hR3SBmu"
      }
    },
    {
      "cell_type": "code",
      "execution_count": null,
      "source": [
        "%%capture\r\n",
        "model.to(\"cpu\")"
      ],
      "outputs": [],
      "metadata": {
        "id": "8ZkW6W7hKg6R"
      }
    },
    {
      "cell_type": "code",
      "execution_count": null,
      "source": [
        "result = find_possible_mistakes(input1, model, top_k=2000)\r\n",
        "print(input1)\r\n",
        "print(json.dumps(result, indent=4, ensure_ascii=False, skipkeys=True,))"
      ],
      "outputs": [
        {
          "output_type": "stream",
          "name": "stdout",
          "text": [
            "پس از سال‌ها تلاش رازی موفق به کسف الکل شد. این دانشمند تیرانی باعث افتخار در تاریخ کور است.\n",
            "[\n",
            "    {\n",
            "        \"raw\": \"تلاش\",\n",
            "        \"corrected\": \"تلال\",\n",
            "        \"span\": [\n",
            "            13,\n",
            "            17\n",
            "        ]\n",
            "    },\n",
            "    {\n",
            "        \"raw\": \"رازی\",\n",
            "        \"corrected\": \"روزی\",\n",
            "        \"span\": [\n",
            "            18,\n",
            "            22\n",
            "        ]\n",
            "    },\n",
            "    {\n",
            "        \"raw\": \"کسف\",\n",
            "        \"corrected\": \"کشف\",\n",
            "        \"span\": [\n",
            "            31,\n",
            "            34\n",
            "        ]\n",
            "    },\n",
            "    {\n",
            "        \"raw\": \"الکل\",\n",
            "        \"corrected\": \"الکا\",\n",
            "        \"span\": [\n",
            "            35,\n",
            "            39\n",
            "        ]\n",
            "    },\n",
            "    {\n",
            "        \"raw\": \"تیرانی\",\n",
            "        \"corrected\": \"ایرانی\",\n",
            "        \"span\": [\n",
            "            56,\n",
            "            62\n",
            "        ]\n",
            "    },\n",
            "    {\n",
            "        \"raw\": \"کور\",\n",
            "        \"corrected\": \"کشور\",\n",
            "        \"span\": [\n",
            "            84,\n",
            "            87\n",
            "        ]\n",
            "    }\n",
            "]\n"
          ]
        }
      ],
      "metadata": {
        "id": "RtvgcEaJSFvx",
        "colab": {
          "base_uri": "https://localhost:8080/"
        },
        "outputId": "f6104ba6-ec42-4cdb-d80c-39e9e590facf"
      }
    },
    {
      "cell_type": "code",
      "execution_count": null,
      "source": [
        "result = find_possible_mistakes(input2, model, top_k=2000)\r\n",
        "print(input2)\r\n",
        "print(json.dumps(result, indent=4, ensure_ascii=False, skipkeys=True,))"
      ],
      "outputs": [
        {
          "output_type": "stream",
          "name": "stdout",
          "text": [
            "بسیاری از مباحث علوم غیرطبیعی با استفاده از فیریک دنیای مادی ابل توجیح نیست و برای یادگیری باید به فلسفه‌های خاصی رجو کرد.\n",
            "[\n",
            "    {\n",
            "        \"raw\": \"فیریک\",\n",
            "        \"corrected\": \"فیزیک\",\n",
            "        \"span\": [\n",
            "            44,\n",
            "            49\n",
            "        ]\n",
            "    },\n",
            "    {\n",
            "        \"raw\": \"مادی\",\n",
            "        \"corrected\": \"مادری\",\n",
            "        \"span\": [\n",
            "            56,\n",
            "            60\n",
            "        ]\n",
            "    },\n",
            "    {\n",
            "        \"raw\": \"ابل\",\n",
            "        \"corrected\": \"قابل\",\n",
            "        \"span\": [\n",
            "            61,\n",
            "            64\n",
            "        ]\n",
            "    },\n",
            "    {\n",
            "        \"raw\": \"توجیح\",\n",
            "        \"corrected\": \"توکیو\",\n",
            "        \"span\": [\n",
            "            65,\n",
            "            70\n",
            "        ]\n",
            "    },\n",
            "    {\n",
            "        \"raw\": \"فلسفههای\",\n",
            "        \"corrected\": \"جلسههای\",\n",
            "        \"span\": [\n",
            "            65,\n",
            "            70\n",
            "        ]\n",
            "    },\n",
            "    {\n",
            "        \"raw\": \"رجو\",\n",
            "        \"corrected\": \"رجوع\",\n",
            "        \"span\": [\n",
            "            114,\n",
            "            117\n",
            "        ]\n",
            "    }\n",
            "]\n"
          ]
        }
      ],
      "metadata": {
        "id": "Gm_VM6G6LDac",
        "colab": {
          "base_uri": "https://localhost:8080/"
        },
        "outputId": "1416bdb3-7978-458f-bbe3-992e0ef49c5b"
      }
    },
    {
      "cell_type": "markdown",
      "source": [
        "<div dir=rtl>\n",
        "متاسفانه نتایج بعد از یادگیری دوباره بهتر نشده اند.\n",
        "</div>"
      ],
      "metadata": {
        "id": "WaK5BFaQ3cvl"
      }
    },
    {
      "cell_type": "markdown",
      "source": [
        "# N-grams"
      ],
      "metadata": {
        "id": "3VzChF0E35j4"
      }
    },
    {
      "cell_type": "code",
      "execution_count": null,
      "source": [
        "from hazm import *\r\n",
        "from google.colab import drive\r\n",
        "import numpy as np\r\n",
        "import os\r\n",
        "import tqdm\r\n",
        "from itertools import product\r\n",
        "import math\r\n",
        "import nltk\r\n",
        "import json"
      ],
      "outputs": [],
      "metadata": {
        "id": "z0qoCIcs38R1"
      }
    },
    {
      "cell_type": "code",
      "execution_count": null,
      "source": [
        "from google.colab import drive\r\n",
        "drive.mount('/content/drive')"
      ],
      "outputs": [],
      "metadata": {
        "id": "oxKKDN3uUUYU"
      }
    },
    {
      "cell_type": "code",
      "execution_count": null,
      "source": [
        "%cd /content/drive/MyDrive/NLP/HW3/NLP-HW3-Resources/\r\n",
        "\r\n",
        "import zipfile\r\n",
        "\r\n",
        "datasets = [\"cultural.zip\", \"economics.zip\", \"politics.zip\", \"sports.zip\"]\r\n",
        "data = []\r\n",
        "\r\n",
        "\r\n",
        "for dataset in datasets:\r\n",
        "    with zipfile.ZipFile(dataset) as zipper:\r\n",
        "        with zipper.open(dataset.split(\".\")[0]+'.txt') as fp:\r\n",
        "            data += fp.read().decode('utf-8').split('\\n')[:100000]\r\n",
        "\r\n",
        "\r\n",
        "%cd /content/drive/MyDrive/NLP/HW3/"
      ],
      "outputs": [
        {
          "output_type": "stream",
          "name": "stdout",
          "text": [
            "/content/drive/.shortcut-targets-by-id/1aAgsAE_TSLzzFsdBLSIvjyv20Iu-wLlq/NLP-HW3-Resources\n",
            "/content/drive/MyDrive/NLP/HW3\n"
          ]
        }
      ],
      "metadata": {
        "colab": {
          "base_uri": "https://localhost:8080/"
        },
        "id": "tjj1sDL8Uc8i",
        "outputId": "cb80c897-626a-4864-cc89-bd8f8db51fff"
      }
    },
    {
      "cell_type": "code",
      "execution_count": null,
      "source": [
        "sentences = sent_tokenize(\"\\n\".join(data))\r\n",
        "len(sentences)"
      ],
      "outputs": [
        {
          "output_type": "execute_result",
          "data": {
            "text/plain": [
              "1292562"
            ]
          },
          "metadata": {},
          "execution_count": 4
        }
      ],
      "metadata": {
        "colab": {
          "base_uri": "https://localhost:8080/"
        },
        "id": "Usg9V5quU4e-",
        "outputId": "b2e421dd-19d9-43be-e80a-33d1333ab42f"
      }
    },
    {
      "cell_type": "code",
      "execution_count": null,
      "source": [
        "normalizer = Normalizer()\r\n",
        "\r\n",
        "sentences = [normalizer.normalize(x) for x in tqdm.tqdm(sentences)]\r\n",
        "sentences = [word_tokenize(sent) for sent in tqdm.tqdm(sentences)]\r\n",
        "sentences = [' '.join(x) for x in tqdm.tqdm(sentences)]"
      ],
      "outputs": [
        {
          "output_type": "stream",
          "name": "stderr",
          "text": [
            "100%|██████████| 1292562/1292562 [01:57<00:00, 10992.08it/s]\n",
            "100%|██████████| 1292562/1292562 [00:59<00:00, 21743.79it/s]\n",
            "100%|██████████| 1292562/1292562 [00:02<00:00, 504704.31it/s]\n"
          ]
        }
      ],
      "metadata": {
        "colab": {
          "base_uri": "https://localhost:8080/"
        },
        "id": "AmaFxNtCVWbI",
        "outputId": "74eb9940-7c60-41c9-b87b-6c2851e57b02"
      }
    },
    {
      "cell_type": "code",
      "execution_count": null,
      "source": [
        "class LanguageModel(object):\r\n",
        "\r\n",
        "    SOS = \"<s>\"\r\n",
        "    EOS = \"</s>\"\r\n",
        "    UNK = \"<UNK>\"\r\n",
        "    \r\n",
        "    def __init__(self, train_data, n, laplace=1):\r\n",
        "        self.n = n\r\n",
        "        self.vocab = dict()\r\n",
        "        self.laplace = laplace\r\n",
        "        self.tokens = self.preprocess(train_data, n)\r\n",
        "        self.vocab  = nltk.FreqDist(self.tokens)\r\n",
        "        self.model  = self._create_model()\r\n",
        "        self.masks  = list(reversed(list(product((0,1), repeat=n))))\r\n",
        "\r\n",
        "\r\n",
        "\r\n",
        "    def _smooth(self):\r\n",
        "        vocab_size = len(self.vocab)\r\n",
        "\r\n",
        "        n_grams = nltk.ngrams(self.tokens, self.n)\r\n",
        "        n_vocab = nltk.FreqDist(n_grams)\r\n",
        "\r\n",
        "        m_grams = nltk.ngrams(self.tokens, self.n-1)\r\n",
        "        m_vocab = nltk.FreqDist(m_grams)\r\n",
        "\r\n",
        "        def smoothed_count(n_gram, n_count):\r\n",
        "            m_gram = n_gram[:-1]\r\n",
        "            m_count = m_vocab[m_gram]\r\n",
        "            return (n_count + self.laplace) / (m_count + self.laplace * vocab_size)\r\n",
        "\r\n",
        "        return { n_gram: smoothed_count(n_gram, count) for n_gram, count in n_vocab.items() }\r\n",
        "\r\n",
        "\r\n",
        "\r\n",
        "    def _create_model(self):\r\n",
        "        if self.n == 1:\r\n",
        "            num_tokens = len(self.tokens)\r\n",
        "            return { (unigram,): count / num_tokens for unigram, count in self.vocab.items() }\r\n",
        "        else:\r\n",
        "            return self._smooth()\r\n",
        "\r\n",
        "\r\n",
        "\r\n",
        "    def _convert_oov(self, ngram):\r\n",
        "        mask = lambda ngram, bitmask: tuple((token if flag == 1 else \"<UNK>\" for token,flag in zip(ngram, bitmask)))\r\n",
        "\r\n",
        "        ngram = (ngram,) if type(ngram) is str else ngram\r\n",
        "        for possible_known in [mask(ngram, bitmask) for bitmask in self.masks]:\r\n",
        "            if possible_known in self.model:\r\n",
        "                return possible_known\r\n",
        "\r\n",
        "\r\n",
        "\r\n",
        "    def perplexity(self, test_data):\r\n",
        "        test_tokens = self.preprocess(test_data, self.n)\r\n",
        "        test_ngrams = nltk.ngrams(test_tokens, self.n)\r\n",
        "        N = len(test_tokens)\r\n",
        "\r\n",
        "        known_ngrams  = [self._convert_oov(ngram) for ngram in test_ngrams]\r\n",
        "        probabilities = [self.model[ngram] for ngram in known_ngrams]\r\n",
        "        \r\n",
        "        # for x,y in zip(known_ngrams, probabilities):\r\n",
        "        #     print(x,y)\r\n",
        "        \r\n",
        "        return math.exp((-1/N) * sum(map(math.log, probabilities)))\r\n",
        "\r\n",
        "\r\n",
        "\r\n",
        "    def _best_candidate(self, prev, k=10, without=[]):\r\n",
        "        \r\n",
        "        blacklist  = [LanguageModel.UNK] + without\r\n",
        "        # if len(prev) < self.n:\r\n",
        "        #     prev = [LanguageModel.SOS]*(self.n-1)\r\n",
        "\r\n",
        "        candidates = list(((ngram[-1],prob) for ngram,prob in self.model.items() if ngram[:-1]==tuple(prev)))\r\n",
        "\r\n",
        "        probs = [y for x,y in candidates]\r\n",
        "        probs = probs/np.sum(probs)\r\n",
        "        words = [x for x,y in candidates]\r\n",
        "\r\n",
        "        candidates.sort(key = lambda x: -x[1])\r\n",
        "        return candidates[:k]\r\n",
        "\r\n",
        "\r\n",
        "    def preprocess(self, sentences, n):\r\n",
        "        sentences = self.add_sentence_tokens(sentences, n)\r\n",
        "        tokens = ' '.join(sentences).split()\r\n",
        "        tokens = self.replace_singletons(tokens)\r\n",
        "        return tokens\r\n",
        "\r\n",
        "\r\n",
        "    def add_sentence_tokens(self, sentences, n):\r\n",
        "        sos = ' '.join([LanguageModel.SOS] * (n-1)) if n > 1 else LanguageModel.SOS\r\n",
        "        return ['{} {} {}'.format(sos, s, LanguageModel.EOS) for s in sentences]\r\n",
        "\r\n",
        "\r\n",
        "    def replace_singletons(self, tokens):\r\n",
        "        if len(self.vocab) == 0:\r\n",
        "            self.vocab = nltk.FreqDist(tokens)\r\n",
        "        return [token if self.vocab[token] > 1 else LanguageModel.UNK for token in tokens]"
      ],
      "outputs": [],
      "metadata": {
        "id": "DcWXx4HiVeTH"
      }
    },
    {
      "cell_type": "code",
      "execution_count": null,
      "source": [
        "language_model = LanguageModel(sentences, 3, 1)"
      ],
      "outputs": [],
      "metadata": {
        "id": "PoQY-vGSVg6h"
      }
    },
    {
      "cell_type": "markdown",
      "source": [
        "## Test using edit distance"
      ],
      "metadata": {
        "id": "AXfgJbjmwScQ"
      }
    },
    {
      "cell_type": "code",
      "execution_count": null,
      "source": [
        "from nltk import probability\r\n",
        "from torch.nn import functional as F\r\n",
        "import torch\r\n",
        "import Levenshtein\r\n",
        "import re\r\n",
        "from hazm import *\r\n",
        "\r\n",
        "\r\n",
        "def find_possible_mistakes_ngram(inp, top_k=20):\r\n",
        "    mistakes = []\r\n",
        "    tokens = word_tokenize(inp)\r\n",
        "    tokens = 2 * [\"<s>\"] + tokens\r\n",
        "\r\n",
        "    for i in range(len(tokens)-2):\r\n",
        "        tops = language_model._best_candidate([tokens[i], tokens[i+1]], top_k)\r\n",
        "\r\n",
        "        least_dist = float(\"inf\")\r\n",
        "        corrected_word = tokens[i+2]\r\n",
        "\r\n",
        "        for word, prob in tops:\r\n",
        "            dist = Levenshtein.distance(tokens[i+2], word)\r\n",
        "            if dist < least_dist:\r\n",
        "                corrected_word = word\r\n",
        "                least_dist = dist\r\n",
        "\r\n",
        "        if tokens[i+2] != corrected_word:\r\n",
        "            for reg in re.finditer(tokens[i+2], inp):\r\n",
        "                s, e = reg.start(), reg.end()\r\n",
        "            mistakes.append({\"raw\": tokens[i+2], \"corrected\": corrected_word, \"span\": [s, e]})\r\n",
        "\r\n",
        "    return mistakes"
      ],
      "outputs": [],
      "metadata": {
        "id": "N1hR_pSTWCi_"
      }
    },
    {
      "cell_type": "code",
      "execution_count": null,
      "source": [
        "result = find_possible_mistakes_ngram(input1, top_k=10)\r\n",
        "print(input1)\r\n",
        "print(json.dumps(result, indent=4, ensure_ascii=False, skipkeys=True,))"
      ],
      "outputs": [
        {
          "output_type": "stream",
          "name": "stdout",
          "text": [
            "پس از سال‌ها تلاش رازی موفق به کسف الکل شد. این دانشمند تیرانی باعث افتخار در تاریخ کور است.\n",
            "[\n",
            "    {\n",
            "        \"raw\": \"پس\",\n",
            "        \"corrected\": \"در\",\n",
            "        \"span\": [\n",
            "            0,\n",
            "            2\n",
            "        ]\n",
            "    },\n",
            "    {\n",
            "        \"raw\": \"سال‌ها\",\n",
            "        \"corrected\": \"این\",\n",
            "        \"span\": [\n",
            "            6,\n",
            "            12\n",
            "        ]\n",
            "    },\n",
            "    {\n",
            "        \"raw\": \"تلاش\",\n",
            "        \"corrected\": \"پیش\",\n",
            "        \"span\": [\n",
            "            13,\n",
            "            17\n",
            "        ]\n",
            "    },\n",
            "    {\n",
            "        \"raw\": \"رازی\",\n",
            "        \"corrected\": \"برای\",\n",
            "        \"span\": [\n",
            "            18,\n",
            "            22\n",
            "        ]\n",
            "    },\n",
            "    {\n",
            "        \"raw\": \"کسف\",\n",
            "        \"corrected\": \"کسب\",\n",
            "        \"span\": [\n",
            "            31,\n",
            "            34\n",
            "        ]\n",
            "    },\n",
            "    {\n",
            "        \"raw\": \"دانشمند\",\n",
            "        \"corrected\": \"کارشناس\",\n",
            "        \"span\": [\n",
            "            48,\n",
            "            55\n",
            "        ]\n",
            "    },\n",
            "    {\n",
            "        \"raw\": \"تیرانی\",\n",
            "        \"corrected\": \"در\",\n",
            "        \"span\": [\n",
            "            56,\n",
            "            62\n",
            "        ]\n",
            "    },\n",
            "    {\n",
            "        \"raw\": \"در\",\n",
            "        \"corrected\": \"من\",\n",
            "        \"span\": [\n",
            "            75,\n",
            "            77\n",
            "        ]\n",
            "    },\n",
            "    {\n",
            "        \"raw\": \"تاریخ\",\n",
            "        \"corrected\": \"کنارش\",\n",
            "        \"span\": [\n",
            "            78,\n",
            "            83\n",
            "        ]\n",
            "    },\n",
            "    {\n",
            "        \"raw\": \"کور\",\n",
            "        \"corrected\": \"هنر\",\n",
            "        \"span\": [\n",
            "            84,\n",
            "            87\n",
            "        ]\n",
            "    }\n",
            "]\n"
          ]
        }
      ],
      "metadata": {
        "colab": {
          "base_uri": "https://localhost:8080/"
        },
        "id": "NWQYDvyDjex0",
        "outputId": "fd884dd9-f5fd-40ae-ca90-e2d4c45ddde6"
      }
    },
    {
      "cell_type": "code",
      "execution_count": null,
      "source": [
        "result = find_possible_mistakes_ngram(input2, top_k=100)\r\n",
        "print(input2)\r\n",
        "print(json.dumps(result, indent=4, ensure_ascii=False, skipkeys=True,))"
      ],
      "outputs": [
        {
          "output_type": "stream",
          "name": "stdout",
          "text": [
            "بسیاری از مباحث علوم غیرطبیعی با استفاده از فیریک دنیای مادی ابل توجیح نیست و برای یادگیری باید به فلسفه‌های خاصی رجو کرد.\n",
            "[\n",
            "    {\n",
            "        \"raw\": \"مباحث\",\n",
            "        \"corrected\": \"موارد\",\n",
            "        \"span\": [\n",
            "            10,\n",
            "            15\n",
            "        ]\n",
            "    },\n",
            "    {\n",
            "        \"raw\": \"علوم\",\n",
            "        \"corrected\": \"علمی\",\n",
            "        \"span\": [\n",
            "            16,\n",
            "            20\n",
            "        ]\n",
            "    },\n",
            "    {\n",
            "        \"raw\": \"فیریک\",\n",
            "        \"corrected\": \"یک\",\n",
            "        \"span\": [\n",
            "            44,\n",
            "            49\n",
            "        ]\n",
            "    },\n",
            "    {\n",
            "        \"raw\": \"ابل\",\n",
            "        \"corrected\": \"به\",\n",
            "        \"span\": [\n",
            "            61,\n",
            "            64\n",
            "        ]\n",
            "    },\n",
            "    {\n",
            "        \"raw\": \"یادگیری\",\n",
            "        \"corrected\": \"جلوگیری\",\n",
            "        \"span\": [\n",
            "            83,\n",
            "            90\n",
            "        ]\n",
            "    },\n",
            "    {\n",
            "        \"raw\": \"باید\",\n",
            "        \"corrected\": \"این\",\n",
            "        \"span\": [\n",
            "            91,\n",
            "            95\n",
            "        ]\n",
            "    },\n",
            "    {\n",
            "        \"raw\": \"به\",\n",
            "        \"corrected\": \"صبر\",\n",
            "        \"span\": [\n",
            "            96,\n",
            "            98\n",
            "        ]\n",
            "    },\n",
            "    {\n",
            "        \"raw\": \"فلسفه‌های\",\n",
            "        \"corrected\": \"گونه‌ای\",\n",
            "        \"span\": [\n",
            "            99,\n",
            "            108\n",
            "        ]\n",
            "    },\n",
            "    {\n",
            "        \"raw\": \"خاصی\",\n",
            "        \"corrected\": \"مضاف\",\n",
            "        \"span\": [\n",
            "            109,\n",
            "            113\n",
            "        ]\n",
            "    },\n",
            "    {\n",
            "        \"raw\": \"رجو\",\n",
            "        \"corrected\": \"برای\",\n",
            "        \"span\": [\n",
            "            114,\n",
            "            117\n",
            "        ]\n",
            "    }\n",
            "]\n"
          ]
        }
      ],
      "metadata": {
        "colab": {
          "base_uri": "https://localhost:8080/"
        },
        "id": "ZMexNA1yV-Xp",
        "outputId": "f8143697-a5ae-4292-8bda-d81eca246811"
      }
    },
    {
      "cell_type": "code",
      "execution_count": null,
      "source": [
        "result = find_possible_mistakes_ngram(input3, top_k=100)\r\n",
        "print(input3)\r\n",
        "print(json.dumps(result, indent=4, ensure_ascii=False, skipkeys=True,))"
      ],
      "outputs": [
        {
          "output_type": "stream",
          "name": "stdout",
          "text": [
            "اما متأسفانه به قدری ساختار سارمان سینمایی و در سطح وسیع‌تر وزارت فرهنگ و ارشاد اصلامی عقب‌مانده و ناکارآمد است که عملا جلوی بهبود هر مشکلی را می‌گیرد!\n",
            "[\n",
            "    {\n",
            "        \"raw\": \"سارمان\",\n",
            "        \"corrected\": \"سازمان\",\n",
            "        \"span\": [\n",
            "            28,\n",
            "            34\n",
            "        ]\n",
            "    },\n",
            "    {\n",
            "        \"raw\": \"اصلامی\",\n",
            "        \"corrected\": \"اسلامی\",\n",
            "        \"span\": [\n",
            "            80,\n",
            "            86\n",
            "        ]\n",
            "    },\n",
            "    {\n",
            "        \"raw\": \"عملا\",\n",
            "        \"corrected\": \"ما\",\n",
            "        \"span\": [\n",
            "            115,\n",
            "            119\n",
            "        ]\n",
            "    }\n",
            "]\n"
          ]
        }
      ],
      "metadata": {
        "colab": {
          "base_uri": "https://localhost:8080/"
        },
        "id": "WXSxM_Bx1-S9",
        "outputId": "3a82723a-2f45-4134-b151-f28f465ef065"
      }
    },
    {
      "cell_type": "code",
      "execution_count": null,
      "source": [
        "result = find_possible_mistakes_ngram(input4, top_k=100)\r\n",
        "print(input4)\r\n",
        "print(json.dumps(result, indent=4, ensure_ascii=False, skipkeys=True,))"
      ],
      "outputs": [
        {
          "output_type": "stream",
          "name": "stdout",
          "text": [
            "منطق جغرافیا و جئوپلیتیک همیشه ثابت است و قابل چشم‌پوسی نیست.‎\n",
            "[\n",
            "    {\n",
            "        \"raw\": \"منطق\",\n",
            "        \"corrected\": \"من\",\n",
            "        \"span\": [\n",
            "            0,\n",
            "            4\n",
            "        ]\n",
            "    },\n",
            "    {\n",
            "        \"raw\": \"جئوپلیتیک\",\n",
            "        \"corrected\": \"ژئوپلیتیک\",\n",
            "        \"span\": [\n",
            "            15,\n",
            "            24\n",
            "        ]\n",
            "    },\n",
            "    {\n",
            "        \"raw\": \"قابل\",\n",
            "        \"corrected\": \"این\",\n",
            "        \"span\": [\n",
            "            42,\n",
            "            46\n",
            "        ]\n",
            "    },\n",
            "    {\n",
            "        \"raw\": \"چشم‌پوسی\",\n",
            "        \"corrected\": \"چشم‌پوشی\",\n",
            "        \"span\": [\n",
            "            47,\n",
            "            55\n",
            "        ]\n",
            "    },\n",
            "    {\n",
            "        \"raw\": \"‎\",\n",
            "        \"corrected\": \"»\",\n",
            "        \"span\": [\n",
            "            61,\n",
            "            62\n",
            "        ]\n",
            "    }\n",
            "]\n"
          ]
        }
      ],
      "metadata": {
        "colab": {
          "base_uri": "https://localhost:8080/"
        },
        "id": "eayZDjuC1-6v",
        "outputId": "b2290f82-abbd-4718-808e-43a400b3bbe7"
      }
    },
    {
      "cell_type": "markdown",
      "source": [
        "# CBOW"
      ],
      "metadata": {
        "id": "IlJ6xBpM5HIf"
      }
    },
    {
      "cell_type": "markdown",
      "source": [
        "## CBOW from Scratch"
      ],
      "metadata": {
        "id": "YoBAZxXlFKSv"
      }
    },
    {
      "cell_type": "markdown",
      "source": [
        "### inatll requirements"
      ],
      "metadata": {
        "id": "XgFf3sJ3-6dj"
      }
    },
    {
      "cell_type": "code",
      "execution_count": null,
      "source": [
        "! pip install hazm"
      ],
      "outputs": [
        {
          "output_type": "stream",
          "name": "stdout",
          "text": [
            "Looking in indexes: https://pypi.org/simple, https://us-python.pkg.dev/colab-wheels/public/simple/\n",
            "Requirement already satisfied: hazm in /usr/local/lib/python3.7/dist-packages (0.7.0)\n",
            "Requirement already satisfied: nltk==3.3 in /usr/local/lib/python3.7/dist-packages (from hazm) (3.3)\n",
            "Requirement already satisfied: libwapiti>=0.2.1 in /usr/local/lib/python3.7/dist-packages (from hazm) (0.2.1)\n",
            "Requirement already satisfied: six in /usr/local/lib/python3.7/dist-packages (from nltk==3.3->hazm) (1.15.0)\n"
          ]
        }
      ],
      "metadata": {
        "colab": {
          "base_uri": "https://localhost:8080/"
        },
        "id": "W2wDL6Bx-_3O",
        "outputId": "d2296af2-4036-419c-b030-f809bd2dba7c"
      }
    },
    {
      "cell_type": "code",
      "execution_count": null,
      "source": [
        "from hazm import *\r\n",
        "import tqdm\r\n",
        "import torch\r\n",
        "import torch.nn as nn"
      ],
      "outputs": [],
      "metadata": {
        "id": "t38MJavy5Jpn"
      }
    },
    {
      "cell_type": "markdown",
      "source": [
        "### Data Loading"
      ],
      "metadata": {
        "id": "a7aLUQb76L80"
      }
    },
    {
      "cell_type": "code",
      "execution_count": null,
      "source": [
        "from google.colab import drive\r\n",
        "import os"
      ],
      "outputs": [],
      "metadata": {
        "id": "znDenAh6VDSo"
      }
    },
    {
      "cell_type": "code",
      "execution_count": null,
      "source": [
        "drive.mount('/content/drive')"
      ],
      "outputs": [
        {
          "output_type": "stream",
          "name": "stdout",
          "text": [
            "Drive already mounted at /content/drive; to attempt to forcibly remount, call drive.mount(\"/content/drive\", force_remount=True).\n"
          ]
        }
      ],
      "metadata": {
        "colab": {
          "base_uri": "https://localhost:8080/"
        },
        "id": "4hVQxhQOTpzN",
        "outputId": "ba78b191-2ce3-46d6-a55a-c3e7320ac3a1"
      }
    },
    {
      "cell_type": "code",
      "execution_count": null,
      "source": [
        "%cd /content/drive/MyDrive/NLP_HW3/Unzipped"
      ],
      "outputs": [
        {
          "output_type": "stream",
          "name": "stdout",
          "text": [
            "/content/drive/MyDrive/NLP_HW3/Unzipped\n"
          ]
        }
      ],
      "metadata": {
        "colab": {
          "base_uri": "https://localhost:8080/"
        },
        "id": "qnrYYcx8UVpm",
        "outputId": "d1266b6e-ac6f-4de6-a11b-e3971f609591"
      }
    },
    {
      "cell_type": "code",
      "execution_count": null,
      "source": [
        "# ! ls"
      ],
      "outputs": [],
      "metadata": {
        "id": "4UQqQJaSUZhS"
      }
    },
    {
      "cell_type": "code",
      "execution_count": null,
      "source": [
        "cultural = ''\r\n",
        "economics = ''\r\n",
        "politics = ''\r\n",
        "sports = ''\r\n",
        "# with open('cultural.txt') as f:\r\n",
        "#   cultural = f.read()\r\n",
        "# with open('economics.txt') as f:\r\n",
        "#   economics = f.read()\r\n",
        "with open('processd_data.txt') as f:\r\n",
        "  politics = f.read()\r\n",
        "# with open('sports.txt') as f:\r\n",
        "#   sports = f.read()\r\n"
      ],
      "outputs": [],
      "metadata": {
        "id": "sGSEERWgazac"
      }
    },
    {
      "cell_type": "code",
      "execution_count": null,
      "source": [
        "stopwords = []\r\n",
        "with open('stopwords.txt') as f:\r\n",
        "  stopwords = f.read().split()"
      ],
      "outputs": [],
      "metadata": {
        "id": "WRIQ6OZ4aw81"
      }
    },
    {
      "cell_type": "markdown",
      "source": [
        "### Preprocessing"
      ],
      "metadata": {
        "id": "QBjETHHbPn4M"
      }
    },
    {
      "cell_type": "code",
      "execution_count": null,
      "source": [
        "# cultural_sents = sent_tokenize(cultural)\r\n",
        "# economics_sents = sent_tokenize(economics)\r\n",
        "politics_sents = sent_tokenize(politics)[:1000]\r\n",
        "# sports_sents = sent_tokenize(sports)"
      ],
      "outputs": [],
      "metadata": {
        "id": "PO8mr0sybeXD"
      }
    },
    {
      "cell_type": "code",
      "execution_count": null,
      "source": [
        "politics_sents = list(set(politics_sents))"
      ],
      "outputs": [],
      "metadata": {
        "id": "9jYG6EAMq3fV"
      }
    },
    {
      "cell_type": "code",
      "execution_count": null,
      "source": [
        "len(politics_sents)"
      ],
      "outputs": [
        {
          "output_type": "execute_result",
          "data": {
            "text/plain": [
              "1000"
            ]
          },
          "metadata": {},
          "execution_count": 11
        }
      ],
      "metadata": {
        "colab": {
          "base_uri": "https://localhost:8080/"
        },
        "id": "a_iZiH7WyJYG",
        "outputId": "8a087a05-1f91-4aef-acf2-987229375eb5"
      }
    },
    {
      "cell_type": "code",
      "execution_count": null,
      "source": [
        "# cultural_sents1 = cultural_sents[:200]\r\n",
        "# cultural_sents2 = cultural_sents[200:400]"
      ],
      "outputs": [],
      "metadata": {
        "id": "FLFzNcSvpnTE"
      }
    },
    {
      "cell_type": "code",
      "execution_count": null,
      "source": [
        "# politics_sents = list(set(sent_tokenize(politics)))"
      ],
      "outputs": [],
      "metadata": {
        "id": "v9MeJYMxJVZB"
      }
    },
    {
      "cell_type": "code",
      "execution_count": null,
      "source": [
        "# pol_sents = []\r\n",
        "# for sent in politics_sents:\r\n",
        "#   if sent not in pol_sents:\r\n",
        "#     pol_sents.append(sent)\r\n"
      ],
      "outputs": [],
      "metadata": {
        "id": "R9eyOv4eN6bq"
      }
    },
    {
      "cell_type": "code",
      "execution_count": null,
      "source": [
        "normalizer = Normalizer()\r\n",
        "all_words = []\r\n",
        "# all_words2 = []\r\n",
        "\r\n",
        "for i in range(len(politics_sents)):\r\n",
        "  all_words += word_tokenize(normalizer.normalize(politics_sents[i]))\r\n",
        "\r\n",
        "# for i in range(len(cultural_sents2)):\r\n",
        "#   all_words2 += word_tokenize(normalizer.normalize(cultural_sents2[i]))  \r\n",
        "\r\n",
        "# for i in range(len(economics_sents)):\r\n",
        "#   all_words += word_tokenize(normalizer.normalize(economics_sents[i]))\r\n",
        "  \r\n",
        "# for i in range(len(politics_sents)):\r\n",
        "#   all_words += word_tokenize(normalizer.normalize(politics_sents[i]))\r\n",
        "  \r\n",
        "# for i in range(len(sports_sents)):\r\n",
        "#   all_words += word_tokenize(normalizer.normalize(sports_sents[i]))\r\n",
        "  \r\n"
      ],
      "outputs": [],
      "metadata": {
        "id": "-ntnxo0_Pgm-"
      }
    },
    {
      "cell_type": "code",
      "execution_count": null,
      "source": [
        "len(all_words)"
      ],
      "outputs": [
        {
          "output_type": "execute_result",
          "data": {
            "text/plain": [
              "29627"
            ]
          },
          "metadata": {},
          "execution_count": 13
        }
      ],
      "metadata": {
        "colab": {
          "base_uri": "https://localhost:8080/"
        },
        "id": "MZmGrRVWS_4a",
        "outputId": "ce28b18c-506b-4d91-b807-9dce0f5c33d5"
      }
    },
    {
      "cell_type": "code",
      "execution_count": null,
      "source": [
        "words = [t for t in tqdm.tqdm(all_words) if t not in stopwords]\r\n",
        "# words2 = [t for t in tqdm.tqdm(all_words2) if t not in stopwords]"
      ],
      "outputs": [
        {
          "output_type": "stream",
          "name": "stderr",
          "text": [
            "100%|██████████| 29627/29627 [00:00<00:00, 1345583.59it/s]\n"
          ]
        }
      ],
      "metadata": {
        "colab": {
          "base_uri": "https://localhost:8080/"
        },
        "id": "y6RDf1A3aoWq",
        "outputId": "3125a0b4-0038-4922-f87c-a7eee8a1361d"
      }
    },
    {
      "cell_type": "markdown",
      "source": [
        "### Training Model"
      ],
      "metadata": {
        "id": "rW2La_scbviZ"
      }
    },
    {
      "cell_type": "code",
      "execution_count": null,
      "source": [
        "CONTEXT_SIZE = 4  # 4 words to the left, 4 to the right\r\n",
        "EMDEDDING_DIM = 100\r\n",
        "\r\n",
        "\r\n",
        "data = []\r\n",
        "for i in range(CONTEXT_SIZE, len(words) - CONTEXT_SIZE):\r\n",
        "  context = []\r\n",
        "  for j in range(-CONTEXT_SIZE, CONTEXT_SIZE+1, 1):\r\n",
        "    if j == 0:\r\n",
        "      continue\r\n",
        "    context.append(words[i+j])\r\n",
        "  target = words[i]\r\n",
        "  data.append((context, target))"
      ],
      "outputs": [],
      "metadata": {
        "id": "WlWJs0A_fFGi"
      }
    },
    {
      "cell_type": "code",
      "execution_count": null,
      "source": [
        "len(data)"
      ],
      "outputs": [
        {
          "output_type": "execute_result",
          "data": {
            "text/plain": [
              "21126"
            ]
          },
          "metadata": {},
          "execution_count": 16
        }
      ],
      "metadata": {
        "colab": {
          "base_uri": "https://localhost:8080/"
        },
        "id": "F2gR-U_9qLQC",
        "outputId": "63000766-b9d6-450b-c563-450b59a8605a"
      }
    },
    {
      "cell_type": "code",
      "execution_count": null,
      "source": [
        "for i in range(CONTEXT_SIZE, len(words2) - CONTEXT_SIZE):\r\n",
        "  context = []\r\n",
        "  for j in range(-CONTEXT_SIZE, CONTEXT_SIZE+1, 1):\r\n",
        "    if j == 0:\r\n",
        "      continue\r\n",
        "    context.append(words2[i+j])\r\n",
        "  target = words2[i]\r\n",
        "  data.append((context, target))"
      ],
      "outputs": [],
      "metadata": {
        "id": "QUqPj9ger_rv"
      }
    },
    {
      "cell_type": "code",
      "execution_count": null,
      "source": [
        "len(data)"
      ],
      "outputs": [
        {
          "output_type": "execute_result",
          "data": {
            "text/plain": [
              "10126"
            ]
          },
          "metadata": {},
          "execution_count": 24
        }
      ],
      "metadata": {
        "colab": {
          "base_uri": "https://localhost:8080/"
        },
        "id": "SCO2uCP6sGu-",
        "outputId": "cd0eb7e5-efb2-4eb8-a6e3-da4f36851906"
      }
    },
    {
      "cell_type": "code",
      "execution_count": null,
      "source": [
        "vocab = set(words)\r\n",
        "vocab_size = len(vocab)\r\n",
        "\r\n",
        "word_to_ix = {word:ix for ix, word in enumerate(vocab)}\r\n",
        "ix_to_word = {ix:word for ix, word in enumerate(vocab)}\r\n",
        "\r\n",
        "\r\n",
        "def make_context_vector(context, word_to_ix):\r\n",
        "    idxs = [word_to_ix[w] for w in context]\r\n",
        "    return torch.tensor(idxs, dtype=torch.long)\r\n",
        "\r\n",
        "\r\n",
        "\r\n",
        "class CBOW(torch.nn.Module):\r\n",
        "    def __init__(self, vocab_size, embedding_dim):\r\n",
        "        super(CBOW, self).__init__()\r\n",
        "\r\n",
        "        #out: 1 x emdedding_dim\r\n",
        "        self.embeddings = nn.Embedding(vocab_size, embedding_dim)\r\n",
        "        self.linear1 = nn.Linear(embedding_dim, 128)\r\n",
        "        self.activation_function1 = nn.ReLU()\r\n",
        "        \r\n",
        "        #out: 1 x vocab_size\r\n",
        "        self.linear2 = nn.Linear(128, vocab_size)\r\n",
        "        self.activation_function2 = nn.LogSoftmax(dim = -1)\r\n",
        "        \r\n",
        "\r\n",
        "    def forward(self, inputs):\r\n",
        "        embeds = sum(self.embeddings(inputs)).view(1,-1)\r\n",
        "        out = self.linear1(embeds)\r\n",
        "        out = self.activation_function1(out)\r\n",
        "        out = self.linear2(out)\r\n",
        "        out = self.activation_function2(out)\r\n",
        "        return out\r\n",
        "\r\n",
        "    def get_word_emdedding(self, word):\r\n",
        "        word = torch.tensor([word_to_ix[word]])\r\n",
        "        return self.embeddings(word).view(1,-1)\r\n",
        "\r\n",
        "\r\n",
        "model = CBOW(vocab_size, EMDEDDING_DIM)\r\n",
        "\r\n",
        "loss_function = nn.NLLLoss()\r\n",
        "optimizer = torch.optim.SGD(model.parameters(), lr=0.001)\r\n",
        "\r\n",
        "#TRAINING\r\n",
        "for epoch in range(20):\r\n",
        "  total_loss = 0\r\n",
        "  for context, target in data:\r\n",
        "    context_vector = make_context_vector(context, word_to_ix)  \r\n",
        "    log_probs = model(context_vector)\r\n",
        "    total_loss += loss_function(log_probs, torch.tensor([word_to_ix[target]]))\r\n",
        "\r\n",
        "  #optimize at the end of each epoch\r\n",
        "  optimizer.zero_grad()\r\n",
        "  total_loss.backward()\r\n",
        "  optimizer.step()\r\n"
      ],
      "outputs": [],
      "metadata": {
        "id": "6LfePQckb1QY"
      }
    },
    {
      "cell_type": "code",
      "execution_count": null,
      "source": [
        "\r\n",
        "#TESTING\r\n",
        "context = ['محقق', 'کشف', 'تاریخ', 'افتخار', 'کشور', 'تلاش', 'باعث', 'نیست']\r\n",
        "context_vector = make_context_vector(context, word_to_ix)\r\n",
        "a = model(context_vector)\r\n",
        "\r\n",
        "#Print result\r\n",
        "print(f'Context: {context}\\n')\r\n",
        "print(f'Prediction: {ix_to_word[torch.argmax(a[0]).item()]}')"
      ],
      "outputs": [
        {
          "output_type": "stream",
          "name": "stdout",
          "text": [
            "Context: ['محقق', 'کشف', 'تاریخ', 'افتخار', 'کشور', 'تلاش', 'باعث', 'نیست']\n",
            "\n",
            "Prediction: توفانی\n"
          ]
        }
      ],
      "metadata": {
        "id": "U79GnhbgckSo",
        "colab": {
          "base_uri": "https://localhost:8080/"
        },
        "outputId": "d45b7aad-72ca-428d-a0df-c15b6c84ce58"
      }
    },
    {
      "cell_type": "markdown",
      "source": [
        "## Pre-trained CBOW"
      ],
      "metadata": {
        "id": "bGiGuMtdFRHN"
      }
    },
    {
      "cell_type": "code",
      "execution_count": null,
      "source": [
        "!git clone https://github.com/facebookresearch/fastText.git "
      ],
      "outputs": [
        {
          "output_type": "stream",
          "name": "stdout",
          "text": [
            "Cloning into 'fastText'...\n",
            "remote: Enumerating objects: 3930, done.\u001b[K\n",
            "remote: Counting objects: 100% (76/76), done.\u001b[K\n",
            "remote: Compressing objects: 100% (29/29), done.\u001b[K\n",
            "remote: Total 3930 (delta 29), reused 70 (delta 29), pack-reused 3854\u001b[K\n",
            "Receiving objects: 100% (3930/3930), 8.33 MiB | 32.07 MiB/s, done.\n",
            "Resolving deltas: 100% (2446/2446), done.\n"
          ]
        }
      ],
      "metadata": {
        "colab": {
          "base_uri": "https://localhost:8080/"
        },
        "id": "_M8A_1WOWIYk",
        "outputId": "484cdc50-21e5-4446-ffbb-d59ed1afcb00"
      }
    },
    {
      "cell_type": "code",
      "execution_count": null,
      "source": [
        "!cd fastText && pip install ."
      ],
      "outputs": [
        {
          "output_type": "stream",
          "name": "stdout",
          "text": [
            "Looking in indexes: https://pypi.org/simple, https://us-python.pkg.dev/colab-wheels/public/simple/\n",
            "Processing /content/fastText\n",
            "\u001b[33m  DEPRECATION: A future pip version will change local packages to be built in-place without first copying to a temporary directory. We recommend you use --use-feature=in-tree-build to test your packages with this new behavior before it becomes the default.\n",
            "   pip 21.3 will remove support for this functionality. You can find discussion regarding this at https://github.com/pypa/pip/issues/7555.\u001b[0m\n",
            "Collecting pybind11>=2.2\n",
            "  Using cached pybind11-2.9.2-py2.py3-none-any.whl (213 kB)\n",
            "Requirement already satisfied: setuptools>=0.7.0 in /usr/local/lib/python3.7/dist-packages (from fasttext==0.9.2) (57.4.0)\n",
            "Requirement already satisfied: numpy in /usr/local/lib/python3.7/dist-packages (from fasttext==0.9.2) (1.21.6)\n",
            "Building wheels for collected packages: fasttext\n",
            "  Building wheel for fasttext (setup.py) ... \u001b[?25l\u001b[?25hdone\n",
            "  Created wheel for fasttext: filename=fasttext-0.9.2-cp37-cp37m-linux_x86_64.whl size=3137162 sha256=1156b48203ba4a46f94179495d373a44a956809cbc4676556ae9fa0ed79f103b\n",
            "  Stored in directory: /tmp/pip-ephem-wheel-cache-9smi8ed3/wheels/22/04/6e/b3aba25c1a5845898b5871a0df37c2126cb0cc9326ad0c08e7\n",
            "Successfully built fasttext\n",
            "Installing collected packages: pybind11, fasttext\n",
            "Successfully installed fasttext-0.9.2 pybind11-2.9.2\n"
          ]
        }
      ],
      "metadata": {
        "colab": {
          "base_uri": "https://localhost:8080/"
        },
        "id": "NdR2F5iDWMWE",
        "outputId": "68e2a8ad-b0a1-454f-f52d-71a13d634320"
      }
    },
    {
      "cell_type": "code",
      "execution_count": null,
      "source": [
        "SKIPGRAM_MODEL_FILE_ID = '1wPnMG9_GNUVdSgbznQziQc5nMWI3QKNz'\r\n",
        "CBOW_MODEL_FILE_ID = '1cQP10CGV6kAwmRuESJ5RTsgHq5TveXwV'"
      ],
      "outputs": [],
      "metadata": {
        "id": "tbB0lkNDWh0P"
      }
    },
    {
      "cell_type": "code",
      "execution_count": null,
      "source": [
        "!gdown --id $CBOW_MODEL_FILE_ID "
      ],
      "outputs": [
        {
          "output_type": "stream",
          "name": "stdout",
          "text": [
            "/usr/local/lib/python3.7/dist-packages/gdown/cli.py:131: FutureWarning: Option `--id` was deprecated in version 4.3.1 and will be removed in 5.0. You don't need to pass it anymore to use a file ID.\n",
            "  category=FutureWarning,\n",
            "Downloading...\n",
            "From: https://drive.google.com/uc?id=1cQP10CGV6kAwmRuESJ5RTsgHq5TveXwV\n",
            "To: /content/farsi-dedup-cbow.bin\n",
            "100% 4.37G/4.37G [00:36<00:00, 119MB/s]\n"
          ]
        }
      ],
      "metadata": {
        "colab": {
          "base_uri": "https://localhost:8080/"
        },
        "id": "NzlLrjCzWj9l",
        "outputId": "c6da09f8-198f-4316-8ef3-6ca340817192"
      }
    },
    {
      "cell_type": "code",
      "execution_count": null,
      "source": [
        "!gdown --id $SKIPGRAM_MODEL_FILE_ID "
      ],
      "outputs": [
        {
          "output_type": "stream",
          "name": "stdout",
          "text": [
            "/usr/local/lib/python3.7/dist-packages/gdown/cli.py:131: FutureWarning: Option `--id` was deprecated in version 4.3.1 and will be removed in 5.0. You don't need to pass it anymore to use a file ID.\n",
            "  category=FutureWarning,\n",
            "Downloading...\n",
            "From: https://drive.google.com/uc?id=1wPnMG9_GNUVdSgbznQziQc5nMWI3QKNz\n",
            "To: /content/farsi-dedup-skipgram.bin\n",
            "100% 4.37G/4.37G [00:35<00:00, 124MB/s]\n"
          ]
        }
      ],
      "metadata": {
        "colab": {
          "base_uri": "https://localhost:8080/"
        },
        "id": "PvUUqWYV8PGc",
        "outputId": "3b527023-253c-49e8-d3e9-d1abc97f5778"
      }
    },
    {
      "cell_type": "code",
      "execution_count": null,
      "source": [
        "import fasttext.util\r\n",
        "# loading the Model\r\n",
        "# model_cbow = fasttext.load_model('farsi-dedup-cbow.bin')\r\n",
        "model_skipgram = fasttext.load_model('farsi-dedup-skipgram.bin')"
      ],
      "outputs": [],
      "metadata": {
        "id": "k85GOy87lErA"
      }
    },
    {
      "cell_type": "code",
      "execution_count": null,
      "source": [
        "model_skipgram.get_analogies('دانشمند', 'کشور', 'افتخار')"
      ],
      "outputs": [
        {
          "output_type": "execute_result",
          "data": {
            "text/plain": [
              "[(0.670722246170044, 'دانشمندم.'),\n",
              " (0.6568266749382019, 'دانشمندم'),\n",
              " (0.6276395916938782, 'مخترع.'),\n",
              " (0.6273905634880066, 'دانشمندی'),\n",
              " (0.6188674569129944, 'دانشمندم،'),\n",
              " (0.6125983595848083, 'دانشمندو'),\n",
              " (0.6124367713928223, 'افتخارلی'),\n",
              " (0.5998932123184204, 'افتخارکن'),\n",
              " (0.5969136357307434, 'ستودنش'),\n",
              " (0.5944597721099854, 'پروفسورر')]"
            ]
          },
          "metadata": {},
          "execution_count": 9
        }
      ],
      "metadata": {
        "colab": {
          "base_uri": "https://localhost:8080/"
        },
        "id": "t2F9E6GbWwgw",
        "outputId": "c05de487-ef83-4a6a-f53b-1842a84d4a07"
      }
    },
    {
      "cell_type": "markdown",
      "source": [
        "## Fasttext CBOW"
      ],
      "metadata": {
        "id": "yUP2VAPxGlaP"
      }
    },
    {
      "cell_type": "code",
      "execution_count": null,
      "source": [
        "! pip install fasttext"
      ],
      "outputs": [],
      "metadata": {
        "id": "VJfrTIhP0m9v"
      }
    },
    {
      "cell_type": "code",
      "execution_count": null,
      "source": [
        "! pip install levenshtein"
      ],
      "outputs": [
        {
          "output_type": "stream",
          "name": "stdout",
          "text": [
            "Looking in indexes: https://pypi.org/simple, https://us-python.pkg.dev/colab-wheels/public/simple/\n",
            "Requirement already satisfied: levenshtein in /usr/local/lib/python3.7/dist-packages (0.18.1)\n",
            "Requirement already satisfied: rapidfuzz<3.0.0,>=2.0.1 in /usr/local/lib/python3.7/dist-packages (from levenshtein) (2.0.11)\n",
            "Requirement already satisfied: jarowinkler<1.1.0,>=1.0.2 in /usr/local/lib/python3.7/dist-packages (from rapidfuzz<3.0.0,>=2.0.1->levenshtein) (1.0.2)\n"
          ]
        }
      ],
      "metadata": {
        "id": "cVV98ppjs1A4",
        "colab": {
          "base_uri": "https://localhost:8080/"
        },
        "outputId": "efe8b226-28e1-4409-e4f3-05a879da0e5b"
      }
    },
    {
      "cell_type": "code",
      "execution_count": null,
      "source": [
        "import fasttext\r\n",
        "import Levenshtein"
      ],
      "outputs": [],
      "metadata": {
        "id": "WlAEzPQtGwtl"
      }
    },
    {
      "cell_type": "code",
      "execution_count": null,
      "source": [
        "model = fasttext.train_unsupervised('data/fil9', \"cbow\")"
      ],
      "outputs": [],
      "metadata": {
        "id": "J3xiTSUxrUS6"
      }
    },
    {
      "cell_type": "code",
      "execution_count": null,
      "source": [
        "sents = sent_tokenize(politics)\r\n",
        "\r\n",
        "sents1 = sents[:len(sents)//2]\r\n",
        "sents2 = sents[len(sents)//2:]   \r\n",
        "\r\n",
        "normalizer = Normalizer()\r\n",
        "words = []\r\n",
        "with open('processd_data.txt', 'w') as f:\r\n",
        "  for i in range(len(sents1)):\r\n",
        "    words = word_tokenize(normalizer.normalize(sents1[i]))\r\n",
        "    words = [w for w in words if w not in [',', ':', '\"', '؛', '-', '»', 'ـ', '»']]\r\n",
        "    s = ' '.join(words)\r\n",
        "    f.write(s + '\\n')\r\n",
        "\r\n",
        "\r\n",
        "# with open('data.txt', 'w') as f:\r\n",
        "#   for sent in result:\r\n",
        "#     f.write(sent + '\\n')  "
      ],
      "outputs": [],
      "metadata": {
        "id": "ez_Dy0Ei26Yy"
      }
    },
    {
      "cell_type": "code",
      "execution_count": null,
      "source": [
        "with open('processd_data.txt', 'w') as f:\r\n",
        "  for i in range(len(sents2)):\r\n",
        "    words = word_tokenize(normalizer.normalize(sents2[i]))\r\n",
        "    words = [w for w in words if w not in [',', ':', '\"', '؛', '-', '»', 'ـ', '»']]\r\n",
        "    s = ' '.join(words)\r\n",
        "    f.write(s + '\\n')\r\n"
      ],
      "outputs": [],
      "metadata": {
        "id": "GFfxm2jgQLjs"
      }
    },
    {
      "cell_type": "code",
      "execution_count": null,
      "source": [
        "model = fasttext.train_unsupervised('processd_data.txt', model='cbow')"
      ],
      "outputs": [],
      "metadata": {
        "id": "HB0hC4iiw0eN"
      }
    },
    {
      "cell_type": "code",
      "execution_count": null,
      "source": [
        "model.get_nearest_neighbors('علوم',50)"
      ],
      "outputs": [],
      "metadata": {
        "id": "RYUNvtJlzyKx"
      }
    },
    {
      "cell_type": "code",
      "execution_count": null,
      "source": [
        "def get_target_word(context, model, target): # with intersection\r\n",
        "  intersection = model.get_nearest_neighbors(context[0], 100)\r\n",
        "  for w in context[1:]:\r\n",
        "    neighbors = model.get_nearest_neighbors(w, 100)\r\n",
        "    intersection = [value for value in intersection if value in neighbors]\r\n",
        "  edit_dist = []\r\n",
        "  for w in intersection:\r\n",
        "    edit_dist.append(Levenshtein.distance(w, target))\r\n",
        "  if len(edit_dist) == 0:\r\n",
        "    return target\r\n",
        "  minimum = min(edit_dist)\r\n",
        "  index = edit_dist.index(minimum)\r\n",
        "  return intersection[index]"
      ],
      "outputs": [],
      "metadata": {
        "id": "mj3VO6ZMksf4"
      }
    },
    {
      "cell_type": "code",
      "execution_count": null,
      "source": [
        "def get_target_word(context, model, target): # with union\r\n",
        "  union = []\r\n",
        "  for w in context:\r\n",
        "    neighbors = model.get_nearest_neighbors(w, 50)\r\n",
        "    union += neighbors\r\n",
        "  edit_dist = []\r\n",
        "  for w in union:\r\n",
        "    if w is not str:\r\n",
        "      continue\r\n",
        "    # try:\r\n",
        "    edit_dist.append(Levenshtein.distance(w, target))\r\n",
        "    # except:\r\n",
        "    #   print(w)\r\n",
        "    #   print(target)\r\n",
        "  if len(edit_dist) == 0:\r\n",
        "    return target\r\n",
        "  minimum = min(edit_dist)\r\n",
        "  index = edit_dist.index(minimum)\r\n",
        "  return union[index]"
      ],
      "outputs": [],
      "metadata": {
        "id": "QTC-74KGx8TL"
      }
    },
    {
      "cell_type": "code",
      "execution_count": null,
      "source": [
        "sent = 'بسیاری از مباحث علوم طبیعی با استفاده از فیریک دنیای مادی ابل توجیح نیست و برای یادگیری باید به فلسفه های خاصی رجو کرد.'\r\n",
        "words = word_tokenize(sent)\r\n",
        "\r\n",
        "context_size = 3 \r\n",
        "new_sent = words\r\n",
        "for i in range(context_size, len(new_sent) - context_size):\r\n",
        "  context = []\r\n",
        "  for j in range(-context_size, context_size+1, 1):\r\n",
        "    if j == 0:\r\n",
        "      continue\r\n",
        "    context.append(new_sent[i+j])\r\n",
        "  target = new_sent[i]\r\n",
        "  new_sent[i] = get_target_word(context, model, target)\r\n",
        "\r\n",
        "print(new_sent)"
      ],
      "outputs": [
        {
          "output_type": "stream",
          "name": "stdout",
          "text": [
            "['بسیاری', 'از', 'مباحث', 'علوم', 'طبیعی', 'با', 'استفاده', 'از', 'فیریک', 'دنیای', 'مادی', 'ابل', 'توجیح', 'نیست', 'و', 'برای', 'یادگیری', 'باید', 'به', 'فلسفه', 'های', 'خاصی', 'رجو', 'کرد', '.']\n"
          ]
        }
      ],
      "metadata": {
        "colab": {
          "base_uri": "https://localhost:8080/"
        },
        "id": "8O6jTCXQhxan",
        "outputId": "8a970a11-ae12-4654-a2ca-b8b5e8497e94"
      }
    },
    {
      "cell_type": "markdown",
      "source": [
        "# References\n",
        "\n",
        "* https://towardsdatascience.com/masked-language-modelling-with-bert-7d49793e5d2c\n",
        "* [Huggingface Bert Model](https://huggingface.co/HooshvareLab/bert-fa-base-uncased?text=%D8%A7%DB%8C%D9%86+%D8%AF%D8%A7%D9%86%D8%B4%D9%85%D9%86%D8%AF+%5BMASK%5D+%D8%A8%D8%A7%D8%B9%D8%AB+%D8%A7%D9%81%D8%AA%D8%AE%D8%A7%D8%B1+%D8%A7%D8%B3%D8%AA.)\n",
        "* https://github.com/language-ml/2-nlp-language-modeling/blob/main/1-Ngram-LanguageModeling-Persian.ipynb\n",
        "* ..."
      ],
      "metadata": {
        "id": "BeWfk-QVU6BO"
      }
    }
  ]
}